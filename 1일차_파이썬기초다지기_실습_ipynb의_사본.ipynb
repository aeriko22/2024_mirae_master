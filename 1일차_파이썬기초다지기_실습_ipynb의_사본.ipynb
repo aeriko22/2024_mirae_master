{
  "cells": [
    {
      "cell_type": "markdown",
      "metadata": {
        "id": "view-in-github",
        "colab_type": "text"
      },
      "source": [
        "<a href=\"https://colab.research.google.com/github/aeriko22/2024_mirae_master/blob/main/1%EC%9D%BC%EC%B0%A8_%ED%8C%8C%EC%9D%B4%EC%8D%AC%EA%B8%B0%EC%B4%88%EB%8B%A4%EC%A7%80%EA%B8%B0_%EC%8B%A4%EC%8A%B5_ipynb%EC%9D%98_%EC%82%AC%EB%B3%B8.ipynb\" target=\"_parent\"><img src=\"https://colab.research.google.com/assets/colab-badge.svg\" alt=\"Open In Colab\"/></a>"
      ]
    },
    {
      "cell_type": "markdown",
      "metadata": {
        "id": "zRxHpy-28GGG"
      },
      "source": [
        "# 1일차-파이썬 기초 다지기"
      ]
    },
    {
      "cell_type": "markdown",
      "metadata": {
        "id": "VRVM91mPB34V"
      },
      "source": [
        "## 1.파이썬 이해하기"
      ]
    },
    {
      "cell_type": "markdown",
      "metadata": {
        "id": "hOwZhukd8GGK"
      },
      "source": [
        "### 파이썬 버전 확인"
      ]
    },
    {
      "cell_type": "code",
      "execution_count": null,
      "metadata": {
        "colab": {
          "base_uri": "https://localhost:8080/"
        },
        "id": "WCJ5nbOTB5ZF",
        "outputId": "1bc1a2ab-46a5-42a9-9207-6a3ee3d33890"
      },
      "outputs": [
        {
          "name": "stdout",
          "output_type": "stream",
          "text": [
            "3.10.12 (main, Sep 11 2024, 15:47:36) [GCC 11.4.0]\n"
          ]
        }
      ],
      "source": [
        "import sys\n",
        "print(sys.version)"
      ]
    },
    {
      "cell_type": "markdown",
      "metadata": {
        "id": "HAFtSTG28GGL"
      },
      "source": [
        "### 파이썬 설치 위치 확인"
      ]
    },
    {
      "cell_type": "code",
      "execution_count": null,
      "metadata": {
        "colab": {
          "base_uri": "https://localhost:8080/"
        },
        "id": "46cMOIHW8GGM",
        "outputId": "a84129a9-91b6-4922-aeda-4c632fa11809"
      },
      "outputs": [
        {
          "name": "stdout",
          "output_type": "stream",
          "text": [
            "/usr/bin/python3\n"
          ]
        },
        {
          "data": {
            "text/plain": [
              "['/content',\n",
              " '/env/python',\n",
              " '/usr/lib/python310.zip',\n",
              " '/usr/lib/python3.10',\n",
              " '/usr/lib/python3.10/lib-dynload',\n",
              " '',\n",
              " '/usr/local/lib/python3.10/dist-packages',\n",
              " '/usr/lib/python3/dist-packages',\n",
              " '/usr/local/lib/python3.10/dist-packages/IPython/extensions',\n",
              " '/usr/local/lib/python3.10/dist-packages/setuptools/_vendor',\n",
              " '/root/.ipython']"
            ]
          },
          "execution_count": 7,
          "metadata": {},
          "output_type": "execute_result"
        }
      ],
      "source": [
        "print(sys.executable)\n",
        "sys.path"
      ]
    },
    {
      "cell_type": "markdown",
      "metadata": {
        "id": "BVZeLUFeILol"
      },
      "source": [
        "### [실습] 파이썬 정보 확인하기\n",
        "\n",
        "\n",
        "1.   설치된 파이썬 버전 출력하기\n",
        "2.   파이썬 실행파일 위치 출력하기\n",
        "\n"
      ]
    },
    {
      "cell_type": "code",
      "execution_count": null,
      "metadata": {
        "id": "wYTlynjPIaj4"
      },
      "outputs": [],
      "source": [
        "import sys\n",
        "\n",
        "print(f'설치된 파이썬 버전: { }')\n",
        "print(f'파이썬 실행파일 위치: { }')"
      ]
    },
    {
      "cell_type": "markdown",
      "metadata": {
        "id": "KE15Fd6jCbUK"
      },
      "source": [
        "### 라이브러리 설치하기"
      ]
    },
    {
      "cell_type": "code",
      "execution_count": null,
      "metadata": {
        "colab": {
          "base_uri": "https://localhost:8080/"
        },
        "id": "PlG-i1fYCbdI",
        "outputId": "36f13028-b9a9-411e-a8d9-2a698966c0be"
      },
      "outputs": [
        {
          "name": "stdout",
          "output_type": "stream",
          "text": [
            "Requirement already satisfied: missingno in /usr/local/lib/python3.10/dist-packages (0.5.2)\n",
            "Requirement already satisfied: numpy in /usr/local/lib/python3.10/dist-packages (from missingno) (1.26.4)\n",
            "Requirement already satisfied: matplotlib in /usr/local/lib/python3.10/dist-packages (from missingno) (3.7.1)\n",
            "Requirement already satisfied: scipy in /usr/local/lib/python3.10/dist-packages (from missingno) (1.13.1)\n",
            "Requirement already satisfied: seaborn in /usr/local/lib/python3.10/dist-packages (from missingno) (0.13.2)\n",
            "Requirement already satisfied: contourpy>=1.0.1 in /usr/local/lib/python3.10/dist-packages (from matplotlib->missingno) (1.3.0)\n",
            "Requirement already satisfied: cycler>=0.10 in /usr/local/lib/python3.10/dist-packages (from matplotlib->missingno) (0.12.1)\n",
            "Requirement already satisfied: fonttools>=4.22.0 in /usr/local/lib/python3.10/dist-packages (from matplotlib->missingno) (4.54.1)\n",
            "Requirement already satisfied: kiwisolver>=1.0.1 in /usr/local/lib/python3.10/dist-packages (from matplotlib->missingno) (1.4.7)\n",
            "Requirement already satisfied: packaging>=20.0 in /usr/local/lib/python3.10/dist-packages (from matplotlib->missingno) (24.1)\n",
            "Requirement already satisfied: pillow>=6.2.0 in /usr/local/lib/python3.10/dist-packages (from matplotlib->missingno) (10.4.0)\n",
            "Requirement already satisfied: pyparsing>=2.3.1 in /usr/local/lib/python3.10/dist-packages (from matplotlib->missingno) (3.1.4)\n",
            "Requirement already satisfied: python-dateutil>=2.7 in /usr/local/lib/python3.10/dist-packages (from matplotlib->missingno) (2.8.2)\n",
            "Requirement already satisfied: pandas>=1.2 in /usr/local/lib/python3.10/dist-packages (from seaborn->missingno) (2.2.2)\n",
            "Requirement already satisfied: pytz>=2020.1 in /usr/local/lib/python3.10/dist-packages (from pandas>=1.2->seaborn->missingno) (2024.2)\n",
            "Requirement already satisfied: tzdata>=2022.7 in /usr/local/lib/python3.10/dist-packages (from pandas>=1.2->seaborn->missingno) (2024.2)\n",
            "Requirement already satisfied: six>=1.5 in /usr/local/lib/python3.10/dist-packages (from python-dateutil>=2.7->matplotlib->missingno) (1.16.0)\n"
          ]
        }
      ],
      "source": [
        "!pip install missingno"
      ]
    },
    {
      "cell_type": "markdown",
      "metadata": {
        "id": "3peceTCrCuXS"
      },
      "source": [
        "### 라이브러리 삭제하기"
      ]
    },
    {
      "cell_type": "code",
      "execution_count": null,
      "metadata": {
        "colab": {
          "base_uri": "https://localhost:8080/"
        },
        "id": "CO9pIWvq8GGN",
        "outputId": "6eb8acd4-d189-4076-af84-b1d512119c7d",
        "scrolled": true
      },
      "outputs": [
        {
          "name": "stdout",
          "output_type": "stream",
          "text": [
            "Found existing installation: missingno 0.5.2\n",
            "Uninstalling missingno-0.5.2:\n",
            "  Would remove:\n",
            "    /usr/local/lib/python3.10/dist-packages/missingno-0.5.2.dist-info/*\n",
            "    /usr/local/lib/python3.10/dist-packages/missingno/*\n",
            "Proceed (Y/n)? Y\n",
            "  Successfully uninstalled missingno-0.5.2\n"
          ]
        }
      ],
      "source": [
        "!pip uninstall missingno"
      ]
    },
    {
      "cell_type": "markdown",
      "metadata": {
        "id": "5KtJAiS08GGO"
      },
      "source": [
        "### 설치된 라이브러리 확인(전체)"
      ]
    },
    {
      "cell_type": "code",
      "execution_count": null,
      "metadata": {
        "colab": {
          "base_uri": "https://localhost:8080/"
        },
        "id": "0bsTdq6y8GGO",
        "outputId": "0b9215b0-52c5-4bf0-9daf-037272abbf39"
      },
      "outputs": [
        {
          "name": "stdout",
          "output_type": "stream",
          "text": [
            "Package                            Version\n",
            "---------------------------------- -------------------\n",
            "absl-py                            1.4.0\n",
            "accelerate                         0.34.2\n",
            "aiohappyeyeballs                   2.4.3\n",
            "aiohttp                            3.10.9\n",
            "aiosignal                          1.3.1\n",
            "alabaster                          0.7.16\n",
            "albucore                           0.0.16\n",
            "albumentations                     1.4.15\n",
            "altair                             4.2.2\n",
            "annotated-types                    0.7.0\n",
            "anyio                              3.7.1\n",
            "argon2-cffi                        23.1.0\n",
            "argon2-cffi-bindings               21.2.0\n",
            "array_record                       0.5.1\n",
            "arviz                              0.19.0\n",
            "astropy                            6.1.4\n",
            "astropy-iers-data                  0.2024.10.7.0.32.46\n",
            "astunparse                         1.6.3\n",
            "async-timeout                      4.0.3\n",
            "atpublic                           4.1.0\n",
            "attrs                              24.2.0\n",
            "audioread                          3.0.1\n",
            "autograd                           1.7.0\n",
            "babel                              2.16.0\n",
            "backcall                           0.2.0\n",
            "beautifulsoup4                     4.12.3\n",
            "bigframes                          1.21.0\n",
            "bigquery-magics                    0.4.0\n",
            "bleach                             6.1.0\n",
            "blinker                            1.4\n",
            "blis                               0.7.11\n",
            "blosc2                             2.0.0\n",
            "bokeh                              3.4.3\n",
            "Bottleneck                         1.4.0\n",
            "bqplot                             0.12.43\n",
            "branca                             0.8.0\n",
            "build                              1.2.2.post1\n",
            "CacheControl                       0.14.0\n",
            "cachetools                         5.5.0\n",
            "catalogue                          2.0.10\n",
            "certifi                            2024.8.30\n",
            "cffi                               1.17.1\n",
            "chardet                            5.2.0\n",
            "charset-normalizer                 3.3.2\n",
            "chex                               0.1.87\n",
            "clarabel                           0.9.0\n",
            "click                              8.1.7\n",
            "cloudpathlib                       0.19.0\n",
            "cloudpickle                        2.2.1\n",
            "cmake                              3.30.4\n",
            "cmdstanpy                          1.2.4\n",
            "colorcet                           3.1.0\n",
            "colorlover                         0.3.0\n",
            "colour                             0.1.5\n",
            "community                          1.0.0b1\n",
            "confection                         0.1.5\n",
            "cons                               0.4.6\n",
            "contextlib2                        21.6.0\n",
            "contourpy                          1.3.0\n",
            "cryptography                       43.0.1\n",
            "cuda-python                        12.2.1\n",
            "cudf-cu12                          24.6.1\n",
            "cufflinks                          0.17.3\n",
            "cupy-cuda12x                       12.2.0\n",
            "cvxopt                             1.3.2\n",
            "cvxpy                              1.5.3\n",
            "cycler                             0.12.1\n",
            "cymem                              2.0.8\n",
            "Cython                             3.0.11\n",
            "dask                               2024.8.0\n",
            "datascience                        0.17.6\n",
            "db-dtypes                          1.3.0\n",
            "dbus-python                        1.2.18\n",
            "debugpy                            1.6.6\n",
            "decorator                          4.4.2\n",
            "defusedxml                         0.7.1\n",
            "Deprecated                         1.2.14\n",
            "distributed                        2024.8.0\n",
            "distro                             1.7.0\n",
            "dlib                               19.24.2\n",
            "dm-tree                            0.1.8\n",
            "docstring_parser                   0.16\n",
            "docutils                           0.18.1\n",
            "dopamine_rl                        4.0.9\n",
            "duckdb                             1.1.1\n",
            "earthengine-api                    1.0.0\n",
            "easydict                           1.13\n",
            "ecos                               2.0.14\n",
            "editdistance                       0.8.1\n",
            "eerepr                             0.0.4\n",
            "einops                             0.8.0\n",
            "en-core-web-sm                     3.7.1\n",
            "entrypoints                        0.4\n",
            "et-xmlfile                         1.1.0\n",
            "etils                              1.9.4\n",
            "etuples                            0.3.9\n",
            "eval_type_backport                 0.2.0\n",
            "exceptiongroup                     1.2.2\n",
            "fastai                             2.7.17\n",
            "fastcore                           1.7.11\n",
            "fastdownload                       0.0.7\n",
            "fastjsonschema                     2.20.0\n",
            "fastprogress                       1.0.3\n",
            "fastrlock                          0.8.2\n",
            "filelock                           3.16.1\n",
            "firebase-admin                     6.5.0\n",
            "Flask                              2.2.5\n",
            "flatbuffers                        24.3.25\n",
            "flax                               0.8.5\n",
            "folium                             0.17.0\n",
            "fonttools                          4.54.1\n",
            "frozendict                         2.4.5\n",
            "frozenlist                         1.4.1\n",
            "fsspec                             2024.6.1\n",
            "future                             1.0.0\n",
            "gast                               0.6.0\n",
            "gcsfs                              2024.6.1\n",
            "GDAL                               3.6.4\n",
            "gdown                              5.2.0\n",
            "geemap                             0.34.5\n",
            "gensim                             4.3.3\n",
            "geocoder                           1.38.1\n",
            "geographiclib                      2.0\n",
            "geopandas                          1.0.1\n",
            "geopy                              2.4.1\n",
            "gin-config                         0.5.0\n",
            "glob2                              0.7\n",
            "google                             2.0.3\n",
            "google-ai-generativelanguage       0.6.6\n",
            "google-api-core                    2.19.2\n",
            "google-api-python-client           2.137.0\n",
            "google-auth                        2.27.0\n",
            "google-auth-httplib2               0.2.0\n",
            "google-auth-oauthlib               1.2.1\n",
            "google-cloud-aiplatform            1.69.0\n",
            "google-cloud-bigquery              3.25.0\n",
            "google-cloud-bigquery-connection   1.15.5\n",
            "google-cloud-bigquery-storage      2.26.0\n",
            "google-cloud-bigtable              2.26.0\n",
            "google-cloud-core                  2.4.1\n",
            "google-cloud-datastore             2.19.0\n",
            "google-cloud-firestore             2.16.1\n",
            "google-cloud-functions             1.16.5\n",
            "google-cloud-iam                   2.15.2\n",
            "google-cloud-language              2.13.4\n",
            "google-cloud-pubsub                2.25.2\n",
            "google-cloud-resource-manager      1.12.5\n",
            "google-cloud-storage               2.8.0\n",
            "google-cloud-translate             3.15.5\n",
            "google-colab                       1.0.0\n",
            "google-crc32c                      1.6.0\n",
            "google-generativeai                0.7.2\n",
            "google-pasta                       0.2.0\n",
            "google-resumable-media             2.7.2\n",
            "googleapis-common-protos           1.65.0\n",
            "googledrivedownloader              0.4\n",
            "graphviz                           0.20.3\n",
            "greenlet                           3.1.1\n",
            "grpc-google-iam-v1                 0.13.1\n",
            "grpcio                             1.64.1\n",
            "grpcio-status                      1.48.2\n",
            "gspread                            6.0.2\n",
            "gspread-dataframe                  3.3.1\n",
            "gym                                0.25.2\n",
            "gym-notices                        0.0.8\n",
            "h5netcdf                           1.4.0\n",
            "h5py                               3.11.0\n",
            "holidays                           0.57\n",
            "holoviews                          1.19.1\n",
            "html5lib                           1.1\n",
            "httpimport                         1.4.0\n",
            "httplib2                           0.22.0\n",
            "huggingface-hub                    0.24.7\n",
            "humanize                           4.10.0\n",
            "hyperopt                           0.2.7\n",
            "ibis-framework                     9.2.0\n",
            "idna                               3.10\n",
            "imageio                            2.35.1\n",
            "imageio-ffmpeg                     0.5.1\n",
            "imagesize                          1.4.1\n",
            "imbalanced-learn                   0.12.4\n",
            "imgaug                             0.4.0\n",
            "immutabledict                      4.2.0\n",
            "importlib_metadata                 8.4.0\n",
            "importlib_resources                6.4.5\n",
            "imutils                            0.5.4\n",
            "inflect                            7.4.0\n",
            "iniconfig                          2.0.0\n",
            "intel-cmplr-lib-ur                 2024.2.1\n",
            "intel-openmp                       2024.2.1\n",
            "ipyevents                          2.0.2\n",
            "ipyfilechooser                     0.6.0\n",
            "ipykernel                          5.5.6\n",
            "ipyleaflet                         0.19.2\n",
            "ipyparallel                        8.8.0\n",
            "ipython                            7.34.0\n",
            "ipython-genutils                   0.2.0\n",
            "ipython-sql                        0.5.0\n",
            "ipytree                            0.2.2\n",
            "ipywidgets                         7.7.1\n",
            "itsdangerous                       2.2.0\n",
            "jax                                0.4.33\n",
            "jax-cuda12-pjrt                    0.4.33\n",
            "jax-cuda12-plugin                  0.4.33\n",
            "jaxlib                             0.4.33\n",
            "jeepney                            0.7.1\n",
            "jellyfish                          1.1.0\n",
            "jieba                              0.42.1\n",
            "Jinja2                             3.1.4\n",
            "joblib                             1.4.2\n",
            "jsonpickle                         3.3.0\n",
            "jsonschema                         4.23.0\n",
            "jsonschema-specifications          2023.12.1\n",
            "jupyter-client                     6.1.12\n",
            "jupyter-console                    6.1.0\n",
            "jupyter_core                       5.7.2\n",
            "jupyter-leaflet                    0.19.2\n",
            "jupyter-server                     1.24.0\n",
            "jupyterlab_pygments                0.3.0\n",
            "jupyterlab_widgets                 3.0.13\n",
            "kaggle                             1.6.17\n",
            "kagglehub                          0.3.1\n",
            "keras                              3.4.1\n",
            "keyring                            23.5.0\n",
            "kiwisolver                         1.4.7\n",
            "langcodes                          3.4.1\n",
            "language_data                      1.2.0\n",
            "launchpadlib                       1.10.16\n",
            "lazr.restfulclient                 0.14.4\n",
            "lazr.uri                           1.0.6\n",
            "lazy_loader                        0.4\n",
            "libclang                           18.1.1\n",
            "librosa                            0.10.2.post1\n",
            "lightgbm                           4.5.0\n",
            "linkify-it-py                      2.0.3\n",
            "llvmlite                           0.43.0\n",
            "locket                             1.0.0\n",
            "logical-unification                0.4.6\n",
            "lxml                               4.9.4\n",
            "marisa-trie                        1.2.0\n",
            "Markdown                           3.7\n",
            "markdown-it-py                     3.0.0\n",
            "MarkupSafe                         2.1.5\n",
            "matplotlib                         3.7.1\n",
            "matplotlib-inline                  0.1.7\n",
            "matplotlib-venn                    1.1.1\n",
            "mdit-py-plugins                    0.4.2\n",
            "mdurl                              0.1.2\n",
            "miniKanren                         1.0.3\n",
            "mistune                            0.8.4\n",
            "mizani                             0.11.4\n",
            "mkl                                2024.2.2\n",
            "ml-dtypes                          0.4.1\n",
            "mlxtend                            0.23.1\n",
            "more-itertools                     10.5.0\n",
            "moviepy                            1.0.3\n",
            "mpmath                             1.3.0\n",
            "msgpack                            1.0.8\n",
            "multidict                          6.1.0\n",
            "multipledispatch                   1.0.0\n",
            "multitasking                       0.0.11\n",
            "murmurhash                         1.0.10\n",
            "music21                            9.1.0\n",
            "namex                              0.0.8\n",
            "natsort                            8.4.0\n",
            "nbclassic                          1.1.0\n",
            "nbclient                           0.10.0\n",
            "nbconvert                          6.5.4\n",
            "nbformat                           5.10.4\n",
            "nest-asyncio                       1.6.0\n",
            "networkx                           3.3\n",
            "nibabel                            5.2.1\n",
            "nltk                               3.8.1\n",
            "notebook                           6.5.5\n",
            "notebook_shim                      0.2.4\n",
            "numba                              0.60.0\n",
            "numexpr                            2.10.1\n",
            "numpy                              1.26.4\n",
            "nvidia-cublas-cu12                 12.6.3.3\n",
            "nvidia-cuda-cupti-cu12             12.6.80\n",
            "nvidia-cuda-nvcc-cu12              12.6.77\n",
            "nvidia-cuda-runtime-cu12           12.6.77\n",
            "nvidia-cudnn-cu12                  9.4.0.58\n",
            "nvidia-cufft-cu12                  11.3.0.4\n",
            "nvidia-cusolver-cu12               11.7.1.2\n",
            "nvidia-cusparse-cu12               12.5.4.2\n",
            "nvidia-nccl-cu12                   2.23.4\n",
            "nvidia-nvjitlink-cu12              12.6.77\n",
            "nvtx                               0.2.10\n",
            "oauth2client                       4.1.3\n",
            "oauthlib                           3.2.2\n",
            "opencv-contrib-python              4.10.0.84\n",
            "opencv-python                      4.10.0.84\n",
            "opencv-python-headless             4.10.0.84\n",
            "openpyxl                           3.1.5\n",
            "opentelemetry-api                  1.27.0\n",
            "opentelemetry-sdk                  1.27.0\n",
            "opentelemetry-semantic-conventions 0.48b0\n",
            "opt_einsum                         3.4.0\n",
            "optax                              0.2.3\n",
            "optree                             0.13.0\n",
            "orbax-checkpoint                   0.6.4\n",
            "osqp                               0.6.7.post0\n",
            "packaging                          24.1\n",
            "pandas                             2.2.2\n",
            "pandas-datareader                  0.10.0\n",
            "pandas-gbq                         0.23.2\n",
            "pandas-stubs                       2.2.2.240909\n",
            "pandocfilters                      1.5.1\n",
            "panel                              1.4.5\n",
            "param                              2.1.1\n",
            "parso                              0.8.4\n",
            "parsy                              2.1\n",
            "partd                              1.4.2\n",
            "pathlib                            1.0.1\n",
            "patsy                              0.5.6\n",
            "peewee                             3.17.6\n",
            "pexpect                            4.9.0\n",
            "pickleshare                        0.7.5\n",
            "pillow                             10.4.0\n",
            "pip                                24.1.2\n",
            "pip-tools                          7.4.1\n",
            "platformdirs                       4.3.6\n",
            "plotly                             5.24.1\n",
            "plotnine                           0.13.6\n",
            "pluggy                             1.5.0\n",
            "polars                             1.7.1\n",
            "pooch                              1.8.2\n",
            "portpicker                         1.5.2\n",
            "prefetch_generator                 1.0.3\n",
            "preshed                            3.0.9\n",
            "prettytable                        3.11.0\n",
            "proglog                            0.1.10\n",
            "progressbar2                       4.5.0\n",
            "prometheus_client                  0.21.0\n",
            "promise                            2.3\n",
            "prompt_toolkit                     3.0.48\n",
            "prophet                            1.1.6\n",
            "proto-plus                         1.24.0\n",
            "protobuf                           3.20.3\n",
            "psutil                             5.9.5\n",
            "psycopg2                           2.9.9\n",
            "ptyprocess                         0.7.0\n",
            "py-cpuinfo                         9.0.0\n",
            "py4j                               0.10.9.7\n",
            "pyarrow                            16.1.0\n",
            "pyarrow-hotfix                     0.6\n",
            "pyasn1                             0.6.1\n",
            "pyasn1_modules                     0.4.1\n",
            "pycocotools                        2.0.8\n",
            "pycparser                          2.22\n",
            "pydantic                           2.9.2\n",
            "pydantic_core                      2.23.4\n",
            "pydata-google-auth                 1.8.2\n",
            "pydot                              3.0.2\n",
            "pydot-ng                           2.0.0\n",
            "pydotplus                          2.0.2\n",
            "PyDrive                            1.3.1\n",
            "PyDrive2                           1.20.0\n",
            "pyerfa                             2.0.1.4\n",
            "pygame                             2.6.1\n",
            "Pygments                           2.18.0\n",
            "PyGObject                          3.42.1\n",
            "PyJWT                              2.9.0\n",
            "pymc                               5.16.2\n",
            "pymystem3                          0.2.0\n",
            "pynvjitlink-cu12                   0.3.0\n",
            "pyogrio                            0.10.0\n",
            "PyOpenGL                           3.1.7\n",
            "pyOpenSSL                          24.2.1\n",
            "pyparsing                          3.1.4\n",
            "pyperclip                          1.9.0\n",
            "pyproj                             3.7.0\n",
            "pyproject_hooks                    1.2.0\n",
            "pyshp                              2.3.1\n",
            "PySocks                            1.7.1\n",
            "pytensor                           2.25.5\n",
            "pytest                             7.4.4\n",
            "python-apt                         0.0.0\n",
            "python-box                         7.2.0\n",
            "python-dateutil                    2.8.2\n",
            "python-louvain                     0.16\n",
            "python-slugify                     8.0.4\n",
            "python-utils                       3.9.0\n",
            "pytz                               2024.2\n",
            "pyviz_comms                        3.0.3\n",
            "PyYAML                             6.0.2\n",
            "pyzmq                              24.0.1\n",
            "qdldl                              0.1.7.post4\n",
            "ratelim                            0.1.6\n",
            "referencing                        0.35.1\n",
            "regex                              2024.9.11\n",
            "requests                           2.32.3\n",
            "requests-oauthlib                  1.3.1\n",
            "requirements-parser                0.9.0\n",
            "rich                               13.9.2\n",
            "rmm-cu12                           24.6.0\n",
            "rpds-py                            0.20.0\n",
            "rpy2                               3.4.2\n",
            "rsa                                4.9\n",
            "safetensors                        0.4.5\n",
            "scikit-image                       0.24.0\n",
            "scikit-learn                       1.5.2\n",
            "scipy                              1.13.1\n",
            "scooby                             0.10.0\n",
            "scs                                3.2.7\n",
            "seaborn                            0.13.2\n",
            "SecretStorage                      3.3.1\n",
            "Send2Trash                         1.8.3\n",
            "sentencepiece                      0.2.0\n",
            "setuptools                         71.0.4\n",
            "shapely                            2.0.6\n",
            "shellingham                        1.5.4\n",
            "simple-parsing                     0.1.6\n",
            "six                                1.16.0\n",
            "sklearn-pandas                     2.2.0\n",
            "smart-open                         7.0.5\n",
            "sniffio                            1.3.1\n",
            "snowballstemmer                    2.2.0\n",
            "sortedcontainers                   2.4.0\n",
            "soundfile                          0.12.1\n",
            "soupsieve                          2.6\n",
            "soxr                               0.5.0.post1\n",
            "spacy                              3.7.5\n",
            "spacy-legacy                       3.0.12\n",
            "spacy-loggers                      1.0.5\n",
            "Sphinx                             5.0.2\n",
            "sphinxcontrib-applehelp            2.0.0\n",
            "sphinxcontrib-devhelp              2.0.0\n",
            "sphinxcontrib-htmlhelp             2.1.0\n",
            "sphinxcontrib-jsmath               1.0.1\n",
            "sphinxcontrib-qthelp               2.0.0\n",
            "sphinxcontrib-serializinghtml      2.0.0\n",
            "SQLAlchemy                         2.0.35\n",
            "sqlglot                            25.1.0\n",
            "sqlparse                           0.5.1\n",
            "srsly                              2.4.8\n",
            "stanio                             0.5.1\n",
            "statsmodels                        0.14.4\n",
            "StrEnum                            0.4.15\n",
            "sympy                              1.13.3\n",
            "tables                             3.8.0\n",
            "tabulate                           0.9.0\n",
            "tbb                                2021.13.1\n",
            "tblib                              3.0.0\n",
            "tenacity                           9.0.0\n",
            "tensorboard                        2.17.0\n",
            "tensorboard-data-server            0.7.2\n",
            "tensorflow                         2.17.0\n",
            "tensorflow-datasets                4.9.6\n",
            "tensorflow-hub                     0.16.1\n",
            "tensorflow-io-gcs-filesystem       0.37.1\n",
            "tensorflow-metadata                1.16.0\n",
            "tensorflow-probability             0.24.0\n",
            "tensorstore                        0.1.66\n",
            "termcolor                          2.5.0\n",
            "terminado                          0.18.1\n",
            "text-unidecode                     1.3\n",
            "textblob                           0.17.1\n",
            "tf_keras                           2.17.0\n",
            "tf-slim                            1.1.0\n",
            "thinc                              8.2.5\n",
            "threadpoolctl                      3.5.0\n",
            "tifffile                           2024.9.20\n",
            "tinycss2                           1.3.0\n",
            "tokenizers                         0.19.1\n",
            "toml                               0.10.2\n",
            "tomli                              2.0.2\n",
            "toolz                              0.12.1\n",
            "torch                              2.4.1+cu121\n",
            "torchaudio                         2.4.1+cu121\n",
            "torchsummary                       1.5.1\n",
            "torchvision                        0.19.1+cu121\n",
            "tornado                            6.3.3\n",
            "tqdm                               4.66.5\n",
            "traitlets                          5.7.1\n",
            "traittypes                         0.2.1\n",
            "transformers                       4.44.2\n",
            "tweepy                             4.14.0\n",
            "typeguard                          4.3.0\n",
            "typer                              0.12.5\n",
            "types-pytz                         2024.2.0.20241003\n",
            "types-setuptools                   75.1.0.20240917\n",
            "typing_extensions                  4.12.2\n",
            "tzdata                             2024.2\n",
            "tzlocal                            5.2\n",
            "uc-micro-py                        1.0.3\n",
            "uritemplate                        4.1.1\n",
            "urllib3                            2.2.3\n",
            "vega-datasets                      0.9.0\n",
            "wadllib                            1.3.6\n",
            "wasabi                             1.1.3\n",
            "wcwidth                            0.2.13\n",
            "weasel                             0.4.1\n",
            "webcolors                          24.8.0\n",
            "webencodings                       0.5.1\n",
            "websocket-client                   1.8.0\n",
            "Werkzeug                           3.0.4\n",
            "wheel                              0.44.0\n",
            "widgetsnbextension                 3.6.9\n",
            "wordcloud                          1.9.3\n",
            "wrapt                              1.16.0\n",
            "xarray                             2024.9.0\n",
            "xarray-einstats                    0.8.0\n",
            "xgboost                            2.1.1\n",
            "xlrd                               2.0.1\n",
            "xyzservices                        2024.9.0\n",
            "yarl                               1.13.1\n",
            "yellowbrick                        1.5\n",
            "yfinance                           0.2.44\n",
            "zict                               3.0.0\n",
            "zipp                               3.20.2\n"
          ]
        }
      ],
      "source": [
        "!pip list"
      ]
    },
    {
      "cell_type": "markdown",
      "metadata": {
        "id": "G_IjDeFh8GGP"
      },
      "source": [
        "### 설치된 라이브러리 확인(특정 라이브러리)"
      ]
    },
    {
      "cell_type": "code",
      "execution_count": null,
      "metadata": {
        "colab": {
          "base_uri": "https://localhost:8080/"
        },
        "id": "TqvE9YpV8GGP",
        "outputId": "bca4d6c5-3af9-4b47-9ad8-5e07b0c4df16"
      },
      "outputs": [
        {
          "name": "stdout",
          "output_type": "stream",
          "text": [
            "Name: numpy\n",
            "Version: 1.26.4\n",
            "Summary: Fundamental package for array computing in Python\n",
            "Home-page: https://numpy.org\n",
            "Author: Travis E. Oliphant et al.\n",
            "Author-email: \n",
            "License: Copyright (c) 2005-2023, NumPy Developers.\n",
            "        All rights reserved.\n",
            "        \n",
            "        Redistribution and use in source and binary forms, with or without\n",
            "        modification, are permitted provided that the following conditions are\n",
            "        met:\n",
            "        \n",
            "            * Redistributions of source code must retain the above copyright\n",
            "               notice, this list of conditions and the following disclaimer.\n",
            "        \n",
            "            * Redistributions in binary form must reproduce the above\n",
            "               copyright notice, this list of conditions and the following\n",
            "               disclaimer in the documentation and/or other materials provided\n",
            "               with the distribution.\n",
            "        \n",
            "            * Neither the name of the NumPy Developers nor the names of any\n",
            "               contributors may be used to endorse or promote products derived\n",
            "               from this software without specific prior written permission.\n",
            "        \n",
            "        THIS SOFTWARE IS PROVIDED BY THE COPYRIGHT HOLDERS AND CONTRIBUTORS\n",
            "        \"AS IS\" AND ANY EXPRESS OR IMPLIED WARRANTIES, INCLUDING, BUT NOT\n",
            "        LIMITED TO, THE IMPLIED WARRANTIES OF MERCHANTABILITY AND FITNESS FOR\n",
            "        A PARTICULAR PURPOSE ARE DISCLAIMED. IN NO EVENT SHALL THE COPYRIGHT\n",
            "        OWNER OR CONTRIBUTORS BE LIABLE FOR ANY DIRECT, INDIRECT, INCIDENTAL,\n",
            "        SPECIAL, EXEMPLARY, OR CONSEQUENTIAL DAMAGES (INCLUDING, BUT NOT\n",
            "        LIMITED TO, PROCUREMENT OF SUBSTITUTE GOODS OR SERVICES; LOSS OF USE,\n",
            "        DATA, OR PROFITS; OR BUSINESS INTERRUPTION) HOWEVER CAUSED AND ON ANY\n",
            "        THEORY OF LIABILITY, WHETHER IN CONTRACT, STRICT LIABILITY, OR TORT\n",
            "        (INCLUDING NEGLIGENCE OR OTHERWISE) ARISING IN ANY WAY OUT OF THE USE\n",
            "        OF THIS SOFTWARE, EVEN IF ADVISED OF THE POSSIBILITY OF SUCH DAMAGE.\n",
            "        \n",
            "        ----\n",
            "        \n",
            "        The NumPy repository and source distributions bundle several libraries that are\n",
            "        compatibly licensed.  We list these here.\n",
            "        \n",
            "        Name: lapack-lite\n",
            "        Files: numpy/linalg/lapack_lite/*\n",
            "        License: BSD-3-Clause\n",
            "          For details, see numpy/linalg/lapack_lite/LICENSE.txt\n",
            "        \n",
            "        Name: tempita\n",
            "        Files: tools/npy_tempita/*\n",
            "        License: MIT\n",
            "          For details, see tools/npy_tempita/license.txt\n",
            "        \n",
            "        Name: dragon4\n",
            "        Files: numpy/core/src/multiarray/dragon4.c\n",
            "        License: MIT\n",
            "          For license text, see numpy/core/src/multiarray/dragon4.c\n",
            "        \n",
            "        Name: libdivide\n",
            "        Files: numpy/core/include/numpy/libdivide/*\n",
            "        License: Zlib\n",
            "          For license text, see numpy/core/include/numpy/libdivide/LICENSE.txt\n",
            "        \n",
            "        \n",
            "        Note that the following files are vendored in the repository and sdist but not\n",
            "        installed in built numpy packages:\n",
            "        \n",
            "        Name: Meson\n",
            "        Files: vendored-meson/meson/*\n",
            "        License: Apache 2.0\n",
            "          For license text, see vendored-meson/meson/COPYING\n",
            "        \n",
            "        Name: spin\n",
            "        Files: .spin/cmds.py\n",
            "        License: BSD-3\n",
            "          For license text, see .spin/LICENSE\n",
            "        \n",
            "        ----\n",
            "        \n",
            "        This binary distribution of NumPy also bundles the following software:\n",
            "        \n",
            "        \n",
            "        Name: OpenBLAS\n",
            "        Files: numpy.libs/libopenblas*.so\n",
            "        Description: bundled as a dynamically linked library\n",
            "        Availability: https://github.com/OpenMathLib/OpenBLAS/\n",
            "        License: BSD-3-Clause\n",
            "          Copyright (c) 2011-2014, The OpenBLAS Project\n",
            "          All rights reserved.\n",
            "        \n",
            "          Redistribution and use in source and binary forms, with or without\n",
            "          modification, are permitted provided that the following conditions are\n",
            "          met:\n",
            "        \n",
            "             1. Redistributions of source code must retain the above copyright\n",
            "                notice, this list of conditions and the following disclaimer.\n",
            "        \n",
            "             2. Redistributions in binary form must reproduce the above copyright\n",
            "                notice, this list of conditions and the following disclaimer in\n",
            "                the documentation and/or other materials provided with the\n",
            "                distribution.\n",
            "             3. Neither the name of the OpenBLAS project nor the names of\n",
            "                its contributors may be used to endorse or promote products\n",
            "                derived from this software without specific prior written\n",
            "                permission.\n",
            "        \n",
            "          THIS SOFTWARE IS PROVIDED BY THE COPYRIGHT HOLDERS AND CONTRIBUTORS \"AS IS\"\n",
            "          AND ANY EXPRESS OR IMPLIED WARRANTIES, INCLUDING, BUT NOT LIMITED TO, THE\n",
            "          IMPLIED WARRANTIES OF MERCHANTABILITY AND FITNESS FOR A PARTICULAR PURPOSE\n",
            "          ARE DISCLAIMED. IN NO EVENT SHALL THE COPYRIGHT OWNER OR CONTRIBUTORS BE\n",
            "          LIABLE FOR ANY DIRECT, INDIRECT, INCIDENTAL, SPECIAL, EXEMPLARY, OR CONSEQUENTIAL\n",
            "          DAMAGES (INCLUDING, BUT NOT LIMITED TO, PROCUREMENT OF SUBSTITUTE GOODS OR\n",
            "          SERVICES; LOSS OF USE, DATA, OR PROFITS; OR BUSINESS INTERRUPTION) HOWEVER\n",
            "          CAUSED AND ON ANY THEORY OF LIABILITY, WHETHER IN CONTRACT, STRICT LIABILITY,\n",
            "          OR TORT (INCLUDING NEGLIGENCE OR OTHERWISE) ARISING IN ANY WAY OUT OF THE\n",
            "          USE OF THIS SOFTWARE, EVEN IF ADVISED OF THE POSSIBILITY OF SUCH DAMAGE.\n",
            "        \n",
            "        \n",
            "        Name: LAPACK\n",
            "        Files: numpy.libs/libopenblas*.so\n",
            "        Description: bundled in OpenBLAS\n",
            "        Availability: https://github.com/OpenMathLib/OpenBLAS/\n",
            "        License: BSD-3-Clause-Attribution\n",
            "          Copyright (c) 1992-2013 The University of Tennessee and The University\n",
            "                                  of Tennessee Research Foundation.  All rights\n",
            "                                  reserved.\n",
            "          Copyright (c) 2000-2013 The University of California Berkeley. All\n",
            "                                  rights reserved.\n",
            "          Copyright (c) 2006-2013 The University of Colorado Denver.  All rights\n",
            "                                  reserved.\n",
            "        \n",
            "          $COPYRIGHT$\n",
            "        \n",
            "          Additional copyrights may follow\n",
            "        \n",
            "          $HEADER$\n",
            "        \n",
            "          Redistribution and use in source and binary forms, with or without\n",
            "          modification, are permitted provided that the following conditions are\n",
            "          met:\n",
            "        \n",
            "          - Redistributions of source code must retain the above copyright\n",
            "            notice, this list of conditions and the following disclaimer.\n",
            "        \n",
            "          - Redistributions in binary form must reproduce the above copyright\n",
            "            notice, this list of conditions and the following disclaimer listed\n",
            "            in this license in the documentation and/or other materials\n",
            "            provided with the distribution.\n",
            "        \n",
            "          - Neither the name of the copyright holders nor the names of its\n",
            "            contributors may be used to endorse or promote products derived from\n",
            "            this software without specific prior written permission.\n",
            "        \n",
            "          The copyright holders provide no reassurances that the source code\n",
            "          provided does not infringe any patent, copyright, or any other\n",
            "          intellectual property rights of third parties.  The copyright holders\n",
            "          disclaim any liability to any recipient for claims brought against\n",
            "          recipient by any third party for infringement of that parties\n",
            "          intellectual property rights.\n",
            "        \n",
            "          THIS SOFTWARE IS PROVIDED BY THE COPYRIGHT HOLDERS AND CONTRIBUTORS\n",
            "          \"AS IS\" AND ANY EXPRESS OR IMPLIED WARRANTIES, INCLUDING, BUT NOT\n",
            "          LIMITED TO, THE IMPLIED WARRANTIES OF MERCHANTABILITY AND FITNESS FOR\n",
            "          A PARTICULAR PURPOSE ARE DISCLAIMED. IN NO EVENT SHALL THE COPYRIGHT\n",
            "          OWNER OR CONTRIBUTORS BE LIABLE FOR ANY DIRECT, INDIRECT, INCIDENTAL,\n",
            "          SPECIAL, EXEMPLARY, OR CONSEQUENTIAL DAMAGES (INCLUDING, BUT NOT\n",
            "          LIMITED TO, PROCUREMENT OF SUBSTITUTE GOODS OR SERVICES; LOSS OF USE,\n",
            "          DATA, OR PROFITS; OR BUSINESS INTERRUPTION) HOWEVER CAUSED AND ON ANY\n",
            "          THEORY OF LIABILITY, WHETHER IN CONTRACT, STRICT LIABILITY, OR TORT\n",
            "          (INCLUDING NEGLIGENCE OR OTHERWISE) ARISING IN ANY WAY OUT OF THE USE\n",
            "          OF THIS SOFTWARE, EVEN IF ADVISED OF THE POSSIBILITY OF SUCH DAMAGE.\n",
            "        \n",
            "        \n",
            "        Name: GCC runtime library\n",
            "        Files: numpy.libs/libgfortran*.so\n",
            "        Description: dynamically linked to files compiled with gcc\n",
            "        Availability: https://gcc.gnu.org/git/?p=gcc.git;a=tree;f=libgfortran\n",
            "        License: GPL-3.0-with-GCC-exception\n",
            "          Copyright (C) 2002-2017 Free Software Foundation, Inc.\n",
            "        \n",
            "          Libgfortran is free software; you can redistribute it and/or modify\n",
            "          it under the terms of the GNU General Public License as published by\n",
            "          the Free Software Foundation; either version 3, or (at your option)\n",
            "          any later version.\n",
            "        \n",
            "          Libgfortran is distributed in the hope that it will be useful,\n",
            "          but WITHOUT ANY WARRANTY; without even the implied warranty of\n",
            "          MERCHANTABILITY or FITNESS FOR A PARTICULAR PURPOSE.  See the\n",
            "          GNU General Public License for more details.\n",
            "        \n",
            "          Under Section 7 of GPL version 3, you are granted additional\n",
            "          permissions described in the GCC Runtime Library Exception, version\n",
            "          3.1, as published by the Free Software Foundation.\n",
            "        \n",
            "          You should have received a copy of the GNU General Public License and\n",
            "          a copy of the GCC Runtime Library Exception along with this program;\n",
            "          see the files COPYING3 and COPYING.RUNTIME respectively.  If not, see\n",
            "          <http://www.gnu.org/licenses/>.\n",
            "        \n",
            "        ----\n",
            "        \n",
            "        Full text of license texts referred to above follows (that they are\n",
            "        listed below does not necessarily imply the conditions apply to the\n",
            "        present binary release):\n",
            "        \n",
            "        ----\n",
            "        \n",
            "        GCC RUNTIME LIBRARY EXCEPTION\n",
            "        \n",
            "        Version 3.1, 31 March 2009\n",
            "        \n",
            "        Copyright (C) 2009 Free Software Foundation, Inc. <http://fsf.org/>\n",
            "        \n",
            "        Everyone is permitted to copy and distribute verbatim copies of this\n",
            "        license document, but changing it is not allowed.\n",
            "        \n",
            "        This GCC Runtime Library Exception (\"Exception\") is an additional\n",
            "        permission under section 7 of the GNU General Public License, version\n",
            "        3 (\"GPLv3\"). It applies to a given file (the \"Runtime Library\") that\n",
            "        bears a notice placed by the copyright holder of the file stating that\n",
            "        the file is governed by GPLv3 along with this Exception.\n",
            "        \n",
            "        When you use GCC to compile a program, GCC may combine portions of\n",
            "        certain GCC header files and runtime libraries with the compiled\n",
            "        program. The purpose of this Exception is to allow compilation of\n",
            "        non-GPL (including proprietary) programs to use, in this way, the\n",
            "        header files and runtime libraries covered by this Exception.\n",
            "        \n",
            "        0. Definitions.\n",
            "        \n",
            "        A file is an \"Independent Module\" if it either requires the Runtime\n",
            "        Library for execution after a Compilation Process, or makes use of an\n",
            "        interface provided by the Runtime Library, but is not otherwise based\n",
            "        on the Runtime Library.\n",
            "        \n",
            "        \"GCC\" means a version of the GNU Compiler Collection, with or without\n",
            "        modifications, governed by version 3 (or a specified later version) of\n",
            "        the GNU General Public License (GPL) with the option of using any\n",
            "        subsequent versions published by the FSF.\n",
            "        \n",
            "        \"GPL-compatible Software\" is software whose conditions of propagation,\n",
            "        modification and use would permit combination with GCC in accord with\n",
            "        the license of GCC.\n",
            "        \n",
            "        \"Target Code\" refers to output from any compiler for a real or virtual\n",
            "        target processor architecture, in executable form or suitable for\n",
            "        input to an assembler, loader, linker and/or execution\n",
            "        phase. Notwithstanding that, Target Code does not include data in any\n",
            "        format that is used as a compiler intermediate representation, or used\n",
            "        for producing a compiler intermediate representation.\n",
            "        \n",
            "        The \"Compilation Process\" transforms code entirely represented in\n",
            "        non-intermediate languages designed for human-written code, and/or in\n",
            "        Java Virtual Machine byte code, into Target Code. Thus, for example,\n",
            "        use of source code generators and preprocessors need not be considered\n",
            "        part of the Compilation Process, since the Compilation Process can be\n",
            "        understood as starting with the output of the generators or\n",
            "        preprocessors.\n",
            "        \n",
            "        A Compilation Process is \"Eligible\" if it is done using GCC, alone or\n",
            "        with other GPL-compatible software, or if it is done without using any\n",
            "        work based on GCC. For example, using non-GPL-compatible Software to\n",
            "        optimize any GCC intermediate representations would not qualify as an\n",
            "        Eligible Compilation Process.\n",
            "        \n",
            "        1. Grant of Additional Permission.\n",
            "        \n",
            "        You have permission to propagate a work of Target Code formed by\n",
            "        combining the Runtime Library with Independent Modules, even if such\n",
            "        propagation would otherwise violate the terms of GPLv3, provided that\n",
            "        all Target Code was generated by Eligible Compilation Processes. You\n",
            "        may then convey such a combination under terms of your choice,\n",
            "        consistent with the licensing of the Independent Modules.\n",
            "        \n",
            "        2. No Weakening of GCC Copyleft.\n",
            "        \n",
            "        The availability of this Exception does not imply any general\n",
            "        presumption that third-party software is unaffected by the copyleft\n",
            "        requirements of the license of GCC.\n",
            "        \n",
            "        ----\n",
            "        \n",
            "                            GNU GENERAL PUBLIC LICENSE\n",
            "                               Version 3, 29 June 2007\n",
            "        \n",
            "         Copyright (C) 2007 Free Software Foundation, Inc. <http://fsf.org/>\n",
            "         Everyone is permitted to copy and distribute verbatim copies\n",
            "         of this license document, but changing it is not allowed.\n",
            "        \n",
            "                                    Preamble\n",
            "        \n",
            "          The GNU General Public License is a free, copyleft license for\n",
            "        software and other kinds of works.\n",
            "        \n",
            "          The licenses for most software and other practical works are designed\n",
            "        to take away your freedom to share and change the works.  By contrast,\n",
            "        the GNU General Public License is intended to guarantee your freedom to\n",
            "        share and change all versions of a program--to make sure it remains free\n",
            "        software for all its users.  We, the Free Software Foundation, use the\n",
            "        GNU General Public License for most of our software; it applies also to\n",
            "        any other work released this way by its authors.  You can apply it to\n",
            "        your programs, too.\n",
            "        \n",
            "          When we speak of free software, we are referring to freedom, not\n",
            "        price.  Our General Public Licenses are designed to make sure that you\n",
            "        have the freedom to distribute copies of free software (and charge for\n",
            "        them if you wish), that you receive source code or can get it if you\n",
            "        want it, that you can change the software or use pieces of it in new\n",
            "        free programs, and that you know you can do these things.\n",
            "        \n",
            "          To protect your rights, we need to prevent others from denying you\n",
            "        these rights or asking you to surrender the rights.  Therefore, you have\n",
            "        certain responsibilities if you distribute copies of the software, or if\n",
            "        you modify it: responsibilities to respect the freedom of others.\n",
            "        \n",
            "          For example, if you distribute copies of such a program, whether\n",
            "        gratis or for a fee, you must pass on to the recipients the same\n",
            "        freedoms that you received.  You must make sure that they, too, receive\n",
            "        or can get the source code.  And you must show them these terms so they\n",
            "        know their rights.\n",
            "        \n",
            "          Developers that use the GNU GPL protect your rights with two steps:\n",
            "        (1) assert copyright on the software, and (2) offer you this License\n",
            "        giving you legal permission to copy, distribute and/or modify it.\n",
            "        \n",
            "          For the developers' and authors' protection, the GPL clearly explains\n",
            "        that there is no warranty for this free software.  For both users' and\n",
            "        authors' sake, the GPL requires that modified versions be marked as\n",
            "        changed, so that their problems will not be attributed erroneously to\n",
            "        authors of previous versions.\n",
            "        \n",
            "          Some devices are designed to deny users access to install or run\n",
            "        modified versions of the software inside them, although the manufacturer\n",
            "        can do so.  This is fundamentally incompatible with the aim of\n",
            "        protecting users' freedom to change the software.  The systematic\n",
            "        pattern of such abuse occurs in the area of products for individuals to\n",
            "        use, which is precisely where it is most unacceptable.  Therefore, we\n",
            "        have designed this version of the GPL to prohibit the practice for those\n",
            "        products.  If such problems arise substantially in other domains, we\n",
            "        stand ready to extend this provision to those domains in future versions\n",
            "        of the GPL, as needed to protect the freedom of users.\n",
            "        \n",
            "          Finally, every program is threatened constantly by software patents.\n",
            "        States should not allow patents to restrict development and use of\n",
            "        software on general-purpose computers, but in those that do, we wish to\n",
            "        avoid the special danger that patents applied to a free program could\n",
            "        make it effectively proprietary.  To prevent this, the GPL assures that\n",
            "        patents cannot be used to render the program non-free.\n",
            "        \n",
            "          The precise terms and conditions for copying, distribution and\n",
            "        modification follow.\n",
            "        \n",
            "                               TERMS AND CONDITIONS\n",
            "        \n",
            "          0. Definitions.\n",
            "        \n",
            "          \"This License\" refers to version 3 of the GNU General Public License.\n",
            "        \n",
            "          \"Copyright\" also means copyright-like laws that apply to other kinds of\n",
            "        works, such as semiconductor masks.\n",
            "        \n",
            "          \"The Program\" refers to any copyrightable work licensed under this\n",
            "        License.  Each licensee is addressed as \"you\".  \"Licensees\" and\n",
            "        \"recipients\" may be individuals or organizations.\n",
            "        \n",
            "          To \"modify\" a work means to copy from or adapt all or part of the work\n",
            "        in a fashion requiring copyright permission, other than the making of an\n",
            "        exact copy.  The resulting work is called a \"modified version\" of the\n",
            "        earlier work or a work \"based on\" the earlier work.\n",
            "        \n",
            "          A \"covered work\" means either the unmodified Program or a work based\n",
            "        on the Program.\n",
            "        \n",
            "          To \"propagate\" a work means to do anything with it that, without\n",
            "        permission, would make you directly or secondarily liable for\n",
            "        infringement under applicable copyright law, except executing it on a\n",
            "        computer or modifying a private copy.  Propagation includes copying,\n",
            "        distribution (with or without modification), making available to the\n",
            "        public, and in some countries other activities as well.\n",
            "        \n",
            "          To \"convey\" a work means any kind of propagation that enables other\n",
            "        parties to make or receive copies.  Mere interaction with a user through\n",
            "        a computer network, with no transfer of a copy, is not conveying.\n",
            "        \n",
            "          An interactive user interface displays \"Appropriate Legal Notices\"\n",
            "        to the extent that it includes a convenient and prominently visible\n",
            "        feature that (1) displays an appropriate copyright notice, and (2)\n",
            "        tells the user that there is no warranty for the work (except to the\n",
            "        extent that warranties are provided), that licensees may convey the\n",
            "        work under this License, and how to view a copy of this License.  If\n",
            "        the interface presents a list of user commands or options, such as a\n",
            "        menu, a prominent item in the list meets this criterion.\n",
            "        \n",
            "          1. Source Code.\n",
            "        \n",
            "          The \"source code\" for a work means the preferred form of the work\n",
            "        for making modifications to it.  \"Object code\" means any non-source\n",
            "        form of a work.\n",
            "        \n",
            "          A \"Standard Interface\" means an interface that either is an official\n",
            "        standard defined by a recognized standards body, or, in the case of\n",
            "        interfaces specified for a particular programming language, one that\n",
            "        is widely used among developers working in that language.\n",
            "        \n",
            "          The \"System Libraries\" of an executable work include anything, other\n",
            "        than the work as a whole, that (a) is included in the normal form of\n",
            "        packaging a Major Component, but which is not part of that Major\n",
            "        Component, and (b) serves only to enable use of the work with that\n",
            "        Major Component, or to implement a Standard Interface for which an\n",
            "        implementation is available to the public in source code form.  A\n",
            "        \"Major Component\", in this context, means a major essential component\n",
            "        (kernel, window system, and so on) of the specific operating system\n",
            "        (if any) on which the executable work runs, or a compiler used to\n",
            "        produce the work, or an object code interpreter used to run it.\n",
            "        \n",
            "          The \"Corresponding Source\" for a work in object code form means all\n",
            "        the source code needed to generate, install, and (for an executable\n",
            "        work) run the object code and to modify the work, including scripts to\n",
            "        control those activities.  However, it does not include the work's\n",
            "        System Libraries, or general-purpose tools or generally available free\n",
            "        programs which are used unmodified in performing those activities but\n",
            "        which are not part of the work.  For example, Corresponding Source\n",
            "        includes interface definition files associated with source files for\n",
            "        the work, and the source code for shared libraries and dynamically\n",
            "        linked subprograms that the work is specifically designed to require,\n",
            "        such as by intimate data communication or control flow between those\n",
            "        subprograms and other parts of the work.\n",
            "        \n",
            "          The Corresponding Source need not include anything that users\n",
            "        can regenerate automatically from other parts of the Corresponding\n",
            "        Source.\n",
            "        \n",
            "          The Corresponding Source for a work in source code form is that\n",
            "        same work.\n",
            "        \n",
            "          2. Basic Permissions.\n",
            "        \n",
            "          All rights granted under this License are granted for the term of\n",
            "        copyright on the Program, and are irrevocable provided the stated\n",
            "        conditions are met.  This License explicitly affirms your unlimited\n",
            "        permission to run the unmodified Program.  The output from running a\n",
            "        covered work is covered by this License only if the output, given its\n",
            "        content, constitutes a covered work.  This License acknowledges your\n",
            "        rights of fair use or other equivalent, as provided by copyright law.\n",
            "        \n",
            "          You may make, run and propagate covered works that you do not\n",
            "        convey, without conditions so long as your license otherwise remains\n",
            "        in force.  You may convey covered works to others for the sole purpose\n",
            "        of having them make modifications exclusively for you, or provide you\n",
            "        with facilities for running those works, provided that you comply with\n",
            "        the terms of this License in conveying all material for which you do\n",
            "        not control copyright.  Those thus making or running the covered works\n",
            "        for you must do so exclusively on your behalf, under your direction\n",
            "        and control, on terms that prohibit them from making any copies of\n",
            "        your copyrighted material outside their relationship with you.\n",
            "        \n",
            "          Conveying under any other circumstances is permitted solely under\n",
            "        the conditions stated below.  Sublicensing is not allowed; section 10\n",
            "        makes it unnecessary.\n",
            "        \n",
            "          3. Protecting Users' Legal Rights From Anti-Circumvention Law.\n",
            "        \n",
            "          No covered work shall be deemed part of an effective technological\n",
            "        measure under any applicable law fulfilling obligations under article\n",
            "        11 of the WIPO copyright treaty adopted on 20 December 1996, or\n",
            "        similar laws prohibiting or restricting circumvention of such\n",
            "        measures.\n",
            "        \n",
            "          When you convey a covered work, you waive any legal power to forbid\n",
            "        circumvention of technological measures to the extent such circumvention\n",
            "        is effected by exercising rights under this License with respect to\n",
            "        the covered work, and you disclaim any intention to limit operation or\n",
            "        modification of the work as a means of enforcing, against the work's\n",
            "        users, your or third parties' legal rights to forbid circumvention of\n",
            "        technological measures.\n",
            "        \n",
            "          4. Conveying Verbatim Copies.\n",
            "        \n",
            "          You may convey verbatim copies of the Program's source code as you\n",
            "        receive it, in any medium, provided that you conspicuously and\n",
            "        appropriately publish on each copy an appropriate copyright notice;\n",
            "        keep intact all notices stating that this License and any\n",
            "        non-permissive terms added in accord with section 7 apply to the code;\n",
            "        keep intact all notices of the absence of any warranty; and give all\n",
            "        recipients a copy of this License along with the Program.\n",
            "        \n",
            "          You may charge any price or no price for each copy that you convey,\n",
            "        and you may offer support or warranty protection for a fee.\n",
            "        \n",
            "          5. Conveying Modified Source Versions.\n",
            "        \n",
            "          You may convey a work based on the Program, or the modifications to\n",
            "        produce it from the Program, in the form of source code under the\n",
            "        terms of section 4, provided that you also meet all of these conditions:\n",
            "        \n",
            "            a) The work must carry prominent notices stating that you modified\n",
            "            it, and giving a relevant date.\n",
            "        \n",
            "            b) The work must carry prominent notices stating that it is\n",
            "            released under this License and any conditions added under section\n",
            "            7.  This requirement modifies the requirement in section 4 to\n",
            "            \"keep intact all notices\".\n",
            "        \n",
            "            c) You must license the entire work, as a whole, under this\n",
            "            License to anyone who comes into possession of a copy.  This\n",
            "            License will therefore apply, along with any applicable section 7\n",
            "            additional terms, to the whole of the work, and all its parts,\n",
            "            regardless of how they are packaged.  This License gives no\n",
            "            permission to license the work in any other way, but it does not\n",
            "            invalidate such permission if you have separately received it.\n",
            "        \n",
            "            d) If the work has interactive user interfaces, each must display\n",
            "            Appropriate Legal Notices; however, if the Program has interactive\n",
            "            interfaces that do not display Appropriate Legal Notices, your\n",
            "            work need not make them do so.\n",
            "        \n",
            "          A compilation of a covered work with other separate and independent\n",
            "        works, which are not by their nature extensions of the covered work,\n",
            "        and which are not combined with it such as to form a larger program,\n",
            "        in or on a volume of a storage or distribution medium, is called an\n",
            "        \"aggregate\" if the compilation and its resulting copyright are not\n",
            "        used to limit the access or legal rights of the compilation's users\n",
            "        beyond what the individual works permit.  Inclusion of a covered work\n",
            "        in an aggregate does not cause this License to apply to the other\n",
            "        parts of the aggregate.\n",
            "        \n",
            "          6. Conveying Non-Source Forms.\n",
            "        \n",
            "          You may convey a covered work in object code form under the terms\n",
            "        of sections 4 and 5, provided that you also convey the\n",
            "        machine-readable Corresponding Source under the terms of this License,\n",
            "        in one of these ways:\n",
            "        \n",
            "            a) Convey the object code in, or embodied in, a physical product\n",
            "            (including a physical distribution medium), accompanied by the\n",
            "            Corresponding Source fixed on a durable physical medium\n",
            "            customarily used for software interchange.\n",
            "        \n",
            "            b) Convey the object code in, or embodied in, a physical product\n",
            "            (including a physical distribution medium), accompanied by a\n",
            "            written offer, valid for at least three years and valid for as\n",
            "            long as you offer spare parts or customer support for that product\n",
            "            model, to give anyone who possesses the object code either (1) a\n",
            "            copy of the Corresponding Source for all the software in the\n",
            "            product that is covered by this License, on a durable physical\n",
            "            medium customarily used for software interchange, for a price no\n",
            "            more than your reasonable cost of physically performing this\n",
            "            conveying of source, or (2) access to copy the\n",
            "            Corresponding Source from a network server at no charge.\n",
            "        \n",
            "            c) Convey individual copies of the object code with a copy of the\n",
            "            written offer to provide the Corresponding Source.  This\n",
            "            alternative is allowed only occasionally and noncommercially, and\n",
            "            only if you received the object code with such an offer, in accord\n",
            "            with subsection 6b.\n",
            "        \n",
            "            d) Convey the object code by offering access from a designated\n",
            "            place (gratis or for a charge), and offer equivalent access to the\n",
            "            Corresponding Source in the same way through the same place at no\n",
            "            further charge.  You need not require recipients to copy the\n",
            "            Corresponding Source along with the object code.  If the place to\n",
            "            copy the object code is a network server, the Corresponding Source\n",
            "            may be on a different server (operated by you or a third party)\n",
            "            that supports equivalent copying facilities, provided you maintain\n",
            "            clear directions next to the object code saying where to find the\n",
            "            Corresponding Source.  Regardless of what server hosts the\n",
            "            Corresponding Source, you remain obligated to ensure that it is\n",
            "            available for as long as needed to satisfy these requirements.\n",
            "        \n",
            "            e) Convey the object code using peer-to-peer transmission, provided\n",
            "            you inform other peers where the object code and Corresponding\n",
            "            Source of the work are being offered to the general public at no\n",
            "            charge under subsection 6d.\n",
            "        \n",
            "          A separable portion of the object code, whose source code is excluded\n",
            "        from the Corresponding Source as a System Library, need not be\n",
            "        included in conveying the object code work.\n",
            "        \n",
            "          A \"User Product\" is either (1) a \"consumer product\", which means any\n",
            "        tangible personal property which is normally used for personal, family,\n",
            "        or household purposes, or (2) anything designed or sold for incorporation\n",
            "        into a dwelling.  In determining whether a product is a consumer product,\n",
            "        doubtful cases shall be resolved in favor of coverage.  For a particular\n",
            "        product received by a particular user, \"normally used\" refers to a\n",
            "        typical or common use of that class of product, regardless of the status\n",
            "        of the particular user or of the way in which the particular user\n",
            "        actually uses, or expects or is expected to use, the product.  A product\n",
            "        is a consumer product regardless of whether the product has substantial\n",
            "        commercial, industrial or non-consumer uses, unless such uses represent\n",
            "        the only significant mode of use of the product.\n",
            "        \n",
            "          \"Installation Information\" for a User Product means any methods,\n",
            "        procedures, authorization keys, or other information required to install\n",
            "        and execute modified versions of a covered work in that User Product from\n",
            "        a modified version of its Corresponding Source.  The information must\n",
            "        suffice to ensure that the continued functioning of the modified object\n",
            "        code is in no case prevented or interfered with solely because\n",
            "        modification has been made.\n",
            "        \n",
            "          If you convey an object code work under this section in, or with, or\n",
            "        specifically for use in, a User Product, and the conveying occurs as\n",
            "        part of a transaction in which the right of possession and use of the\n",
            "        User Product is transferred to the recipient in perpetuity or for a\n",
            "        fixed term (regardless of how the transaction is characterized), the\n",
            "        Corresponding Source conveyed under this section must be accompanied\n",
            "        by the Installation Information.  But this requirement does not apply\n",
            "        if neither you nor any third party retains the ability to install\n",
            "        modified object code on the User Product (for example, the work has\n",
            "        been installed in ROM).\n",
            "        \n",
            "          The requirement to provide Installation Information does not include a\n",
            "        requirement to continue to provide support service, warranty, or updates\n",
            "        for a work that has been modified or installed by the recipient, or for\n",
            "        the User Product in which it has been modified or installed.  Access to a\n",
            "        network may be denied when the modification itself materially and\n",
            "        adversely affects the operation of the network or violates the rules and\n",
            "        protocols for communication across the network.\n",
            "        \n",
            "          Corresponding Source conveyed, and Installation Information provided,\n",
            "        in accord with this section must be in a format that is publicly\n",
            "        documented (and with an implementation available to the public in\n",
            "        source code form), and must require no special password or key for\n",
            "        unpacking, reading or copying.\n",
            "        \n",
            "          7. Additional Terms.\n",
            "        \n",
            "          \"Additional permissions\" are terms that supplement the terms of this\n",
            "        License by making exceptions from one or more of its conditions.\n",
            "        Additional permissions that are applicable to the entire Program shall\n",
            "        be treated as though they were included in this License, to the extent\n",
            "        that they are valid under applicable law.  If additional permissions\n",
            "        apply only to part of the Program, that part may be used separately\n",
            "        under those permissions, but the entire Program remains governed by\n",
            "        this License without regard to the additional permissions.\n",
            "        \n",
            "          When you convey a copy of a covered work, you may at your option\n",
            "        remove any additional permissions from that copy, or from any part of\n",
            "        it.  (Additional permissions may be written to require their own\n",
            "        removal in certain cases when you modify the work.)  You may place\n",
            "        additional permissions on material, added by you to a covered work,\n",
            "        for which you have or can give appropriate copyright permission.\n",
            "        \n",
            "          Notwithstanding any other provision of this License, for material you\n",
            "        add to a covered work, you may (if authorized by the copyright holders of\n",
            "        that material) supplement the terms of this License with terms:\n",
            "        \n",
            "            a) Disclaiming warranty or limiting liability differently from the\n",
            "            terms of sections 15 and 16 of this License; or\n",
            "        \n",
            "            b) Requiring preservation of specified reasonable legal notices or\n",
            "            author attributions in that material or in the Appropriate Legal\n",
            "            Notices displayed by works containing it; or\n",
            "        \n",
            "            c) Prohibiting misrepresentation of the origin of that material, or\n",
            "            requiring that modified versions of such material be marked in\n",
            "            reasonable ways as different from the original version; or\n",
            "        \n",
            "            d) Limiting the use for publicity purposes of names of licensors or\n",
            "            authors of the material; or\n",
            "        \n",
            "            e) Declining to grant rights under trademark law for use of some\n",
            "            trade names, trademarks, or service marks; or\n",
            "        \n",
            "            f) Requiring indemnification of licensors and authors of that\n",
            "            material by anyone who conveys the material (or modified versions of\n",
            "            it) with contractual assumptions of liability to the recipient, for\n",
            "            any liability that these contractual assumptions directly impose on\n",
            "            those licensors and authors.\n",
            "        \n",
            "          All other non-permissive additional terms are considered \"further\n",
            "        restrictions\" within the meaning of section 10.  If the Program as you\n",
            "        received it, or any part of it, contains a notice stating that it is\n",
            "        governed by this License along with a term that is a further\n",
            "        restriction, you may remove that term.  If a license document contains\n",
            "        a further restriction but permits relicensing or conveying under this\n",
            "        License, you may add to a covered work material governed by the terms\n",
            "        of that license document, provided that the further restriction does\n",
            "        not survive such relicensing or conveying.\n",
            "        \n",
            "          If you add terms to a covered work in accord with this section, you\n",
            "        must place, in the relevant source files, a statement of the\n",
            "        additional terms that apply to those files, or a notice indicating\n",
            "        where to find the applicable terms.\n",
            "        \n",
            "          Additional terms, permissive or non-permissive, may be stated in the\n",
            "        form of a separately written license, or stated as exceptions;\n",
            "        the above requirements apply either way.\n",
            "        \n",
            "          8. Termination.\n",
            "        \n",
            "          You may not propagate or modify a covered work except as expressly\n",
            "        provided under this License.  Any attempt otherwise to propagate or\n",
            "        modify it is void, and will automatically terminate your rights under\n",
            "        this License (including any patent licenses granted under the third\n",
            "        paragraph of section 11).\n",
            "        \n",
            "          However, if you cease all violation of this License, then your\n",
            "        license from a particular copyright holder is reinstated (a)\n",
            "        provisionally, unless and until the copyright holder explicitly and\n",
            "        finally terminates your license, and (b) permanently, if the copyright\n",
            "        holder fails to notify you of the violation by some reasonable means\n",
            "        prior to 60 days after the cessation.\n",
            "        \n",
            "          Moreover, your license from a particular copyright holder is\n",
            "        reinstated permanently if the copyright holder notifies you of the\n",
            "        violation by some reasonable means, this is the first time you have\n",
            "        received notice of violation of this License (for any work) from that\n",
            "        copyright holder, and you cure the violation prior to 30 days after\n",
            "        your receipt of the notice.\n",
            "        \n",
            "          Termination of your rights under this section does not terminate the\n",
            "        licenses of parties who have received copies or rights from you under\n",
            "        this License.  If your rights have been terminated and not permanently\n",
            "        reinstated, you do not qualify to receive new licenses for the same\n",
            "        material under section 10.\n",
            "        \n",
            "          9. Acceptance Not Required for Having Copies.\n",
            "        \n",
            "          You are not required to accept this License in order to receive or\n",
            "        run a copy of the Program.  Ancillary propagation of a covered work\n",
            "        occurring solely as a consequence of using peer-to-peer transmission\n",
            "        to receive a copy likewise does not require acceptance.  However,\n",
            "        nothing other than this License grants you permission to propagate or\n",
            "        modify any covered work.  These actions infringe copyright if you do\n",
            "        not accept this License.  Therefore, by modifying or propagating a\n",
            "        covered work, you indicate your acceptance of this License to do so.\n",
            "        \n",
            "          10. Automatic Licensing of Downstream Recipients.\n",
            "        \n",
            "          Each time you convey a covered work, the recipient automatically\n",
            "        receives a license from the original licensors, to run, modify and\n",
            "        propagate that work, subject to this License.  You are not responsible\n",
            "        for enforcing compliance by third parties with this License.\n",
            "        \n",
            "          An \"entity transaction\" is a transaction transferring control of an\n",
            "        organization, or substantially all assets of one, or subdividing an\n",
            "        organization, or merging organizations.  If propagation of a covered\n",
            "        work results from an entity transaction, each party to that\n",
            "        transaction who receives a copy of the work also receives whatever\n",
            "        licenses to the work the party's predecessor in interest had or could\n",
            "        give under the previous paragraph, plus a right to possession of the\n",
            "        Corresponding Source of the work from the predecessor in interest, if\n",
            "        the predecessor has it or can get it with reasonable efforts.\n",
            "        \n",
            "          You may not impose any further restrictions on the exercise of the\n",
            "        rights granted or affirmed under this License.  For example, you may\n",
            "        not impose a license fee, royalty, or other charge for exercise of\n",
            "        rights granted under this License, and you may not initiate litigation\n",
            "        (including a cross-claim or counterclaim in a lawsuit) alleging that\n",
            "        any patent claim is infringed by making, using, selling, offering for\n",
            "        sale, or importing the Program or any portion of it.\n",
            "        \n",
            "          11. Patents.\n",
            "        \n",
            "          A \"contributor\" is a copyright holder who authorizes use under this\n",
            "        License of the Program or a work on which the Program is based.  The\n",
            "        work thus licensed is called the contributor's \"contributor version\".\n",
            "        \n",
            "          A contributor's \"essential patent claims\" are all patent claims\n",
            "        owned or controlled by the contributor, whether already acquired or\n",
            "        hereafter acquired, that would be infringed by some manner, permitted\n",
            "        by this License, of making, using, or selling its contributor version,\n",
            "        but do not include claims that would be infringed only as a\n",
            "        consequence of further modification of the contributor version.  For\n",
            "        purposes of this definition, \"control\" includes the right to grant\n",
            "        patent sublicenses in a manner consistent with the requirements of\n",
            "        this License.\n",
            "        \n",
            "          Each contributor grants you a non-exclusive, worldwide, royalty-free\n",
            "        patent license under the contributor's essential patent claims, to\n",
            "        make, use, sell, offer for sale, import and otherwise run, modify and\n",
            "        propagate the contents of its contributor version.\n",
            "        \n",
            "          In the following three paragraphs, a \"patent license\" is any express\n",
            "        agreement or commitment, however denominated, not to enforce a patent\n",
            "        (such as an express permission to practice a patent or covenant not to\n",
            "        sue for patent infringement).  To \"grant\" such a patent license to a\n",
            "        party means to make such an agreement or commitment not to enforce a\n",
            "        patent against the party.\n",
            "        \n",
            "          If you convey a covered work, knowingly relying on a patent license,\n",
            "        and the Corresponding Source of the work is not available for anyone\n",
            "        to copy, free of charge and under the terms of this License, through a\n",
            "        publicly available network server or other readily accessible means,\n",
            "        then you must either (1) cause the Corresponding Source to be so\n",
            "        available, or (2) arrange to deprive yourself of the benefit of the\n",
            "        patent license for this particular work, or (3) arrange, in a manner\n",
            "        consistent with the requirements of this License, to extend the patent\n",
            "        license to downstream recipients.  \"Knowingly relying\" means you have\n",
            "        actual knowledge that, but for the patent license, your conveying the\n",
            "        covered work in a country, or your recipient's use of the covered work\n",
            "        in a country, would infringe one or more identifiable patents in that\n",
            "        country that you have reason to believe are valid.\n",
            "        \n",
            "          If, pursuant to or in connection with a single transaction or\n",
            "        arrangement, you convey, or propagate by procuring conveyance of, a\n",
            "        covered work, and grant a patent license to some of the parties\n",
            "        receiving the covered work authorizing them to use, propagate, modify\n",
            "        or convey a specific copy of the covered work, then the patent license\n",
            "        you grant is automatically extended to all recipients of the covered\n",
            "        work and works based on it.\n",
            "        \n",
            "          A patent license is \"discriminatory\" if it does not include within\n",
            "        the scope of its coverage, prohibits the exercise of, or is\n",
            "        conditioned on the non-exercise of one or more of the rights that are\n",
            "        specifically granted under this License.  You may not convey a covered\n",
            "        work if you are a party to an arrangement with a third party that is\n",
            "        in the business of distributing software, under which you make payment\n",
            "        to the third party based on the extent of your activity of conveying\n",
            "        the work, and under which the third party grants, to any of the\n",
            "        parties who would receive the covered work from you, a discriminatory\n",
            "        patent license (a) in connection with copies of the covered work\n",
            "        conveyed by you (or copies made from those copies), or (b) primarily\n",
            "        for and in connection with specific products or compilations that\n",
            "        contain the covered work, unless you entered into that arrangement,\n",
            "        or that patent license was granted, prior to 28 March 2007.\n",
            "        \n",
            "          Nothing in this License shall be construed as excluding or limiting\n",
            "        any implied license or other defenses to infringement that may\n",
            "        otherwise be available to you under applicable patent law.\n",
            "        \n",
            "          12. No Surrender of Others' Freedom.\n",
            "        \n",
            "          If conditions are imposed on you (whether by court order, agreement or\n",
            "        otherwise) that contradict the conditions of this License, they do not\n",
            "        excuse you from the conditions of this License.  If you cannot convey a\n",
            "        covered work so as to satisfy simultaneously your obligations under this\n",
            "        License and any other pertinent obligations, then as a consequence you may\n",
            "        not convey it at all.  For example, if you agree to terms that obligate you\n",
            "        to collect a royalty for further conveying from those to whom you convey\n",
            "        the Program, the only way you could satisfy both those terms and this\n",
            "        License would be to refrain entirely from conveying the Program.\n",
            "        \n",
            "          13. Use with the GNU Affero General Public License.\n",
            "        \n",
            "          Notwithstanding any other provision of this License, you have\n",
            "        permission to link or combine any covered work with a work licensed\n",
            "        under version 3 of the GNU Affero General Public License into a single\n",
            "        combined work, and to convey the resulting work.  The terms of this\n",
            "        License will continue to apply to the part which is the covered work,\n",
            "        but the special requirements of the GNU Affero General Public License,\n",
            "        section 13, concerning interaction through a network will apply to the\n",
            "        combination as such.\n",
            "        \n",
            "          14. Revised Versions of this License.\n",
            "        \n",
            "          The Free Software Foundation may publish revised and/or new versions of\n",
            "        the GNU General Public License from time to time.  Such new versions will\n",
            "        be similar in spirit to the present version, but may differ in detail to\n",
            "        address new problems or concerns.\n",
            "        \n",
            "          Each version is given a distinguishing version number.  If the\n",
            "        Program specifies that a certain numbered version of the GNU General\n",
            "        Public License \"or any later version\" applies to it, you have the\n",
            "        option of following the terms and conditions either of that numbered\n",
            "        version or of any later version published by the Free Software\n",
            "        Foundation.  If the Program does not specify a version number of the\n",
            "        GNU General Public License, you may choose any version ever published\n",
            "        by the Free Software Foundation.\n",
            "        \n",
            "          If the Program specifies that a proxy can decide which future\n",
            "        versions of the GNU General Public License can be used, that proxy's\n",
            "        public statement of acceptance of a version permanently authorizes you\n",
            "        to choose that version for the Program.\n",
            "        \n",
            "          Later license versions may give you additional or different\n",
            "        permissions.  However, no additional obligations are imposed on any\n",
            "        author or copyright holder as a result of your choosing to follow a\n",
            "        later version.\n",
            "        \n",
            "          15. Disclaimer of Warranty.\n",
            "        \n",
            "          THERE IS NO WARRANTY FOR THE PROGRAM, TO THE EXTENT PERMITTED BY\n",
            "        APPLICABLE LAW.  EXCEPT WHEN OTHERWISE STATED IN WRITING THE COPYRIGHT\n",
            "        HOLDERS AND/OR OTHER PARTIES PROVIDE THE PROGRAM \"AS IS\" WITHOUT WARRANTY\n",
            "        OF ANY KIND, EITHER EXPRESSED OR IMPLIED, INCLUDING, BUT NOT LIMITED TO,\n",
            "        THE IMPLIED WARRANTIES OF MERCHANTABILITY AND FITNESS FOR A PARTICULAR\n",
            "        PURPOSE.  THE ENTIRE RISK AS TO THE QUALITY AND PERFORMANCE OF THE PROGRAM\n",
            "        IS WITH YOU.  SHOULD THE PROGRAM PROVE DEFECTIVE, YOU ASSUME THE COST OF\n",
            "        ALL NECESSARY SERVICING, REPAIR OR CORRECTION.\n",
            "        \n",
            "          16. Limitation of Liability.\n",
            "        \n",
            "          IN NO EVENT UNLESS REQUIRED BY APPLICABLE LAW OR AGREED TO IN WRITING\n",
            "        WILL ANY COPYRIGHT HOLDER, OR ANY OTHER PARTY WHO MODIFIES AND/OR CONVEYS\n",
            "        THE PROGRAM AS PERMITTED ABOVE, BE LIABLE TO YOU FOR DAMAGES, INCLUDING ANY\n",
            "        GENERAL, SPECIAL, INCIDENTAL OR CONSEQUENTIAL DAMAGES ARISING OUT OF THE\n",
            "        USE OR INABILITY TO USE THE PROGRAM (INCLUDING BUT NOT LIMITED TO LOSS OF\n",
            "        DATA OR DATA BEING RENDERED INACCURATE OR LOSSES SUSTAINED BY YOU OR THIRD\n",
            "        PARTIES OR A FAILURE OF THE PROGRAM TO OPERATE WITH ANY OTHER PROGRAMS),\n",
            "        EVEN IF SUCH HOLDER OR OTHER PARTY HAS BEEN ADVISED OF THE POSSIBILITY OF\n",
            "        SUCH DAMAGES.\n",
            "        \n",
            "          17. Interpretation of Sections 15 and 16.\n",
            "        \n",
            "          If the disclaimer of warranty and limitation of liability provided\n",
            "        above cannot be given local legal effect according to their terms,\n",
            "        reviewing courts shall apply local law that most closely approximates\n",
            "        an absolute waiver of all civil liability in connection with the\n",
            "        Program, unless a warranty or assumption of liability accompanies a\n",
            "        copy of the Program in return for a fee.\n",
            "        \n",
            "                             END OF TERMS AND CONDITIONS\n",
            "        \n",
            "                    How to Apply These Terms to Your New Programs\n",
            "        \n",
            "          If you develop a new program, and you want it to be of the greatest\n",
            "        possible use to the public, the best way to achieve this is to make it\n",
            "        free software which everyone can redistribute and change under these terms.\n",
            "        \n",
            "          To do so, attach the following notices to the program.  It is safest\n",
            "        to attach them to the start of each source file to most effectively\n",
            "        state the exclusion of warranty; and each file should have at least\n",
            "        the \"copyright\" line and a pointer to where the full notice is found.\n",
            "        \n",
            "            <one line to give the program's name and a brief idea of what it does.>\n",
            "            Copyright (C) <year>  <name of author>\n",
            "        \n",
            "            This program is free software: you can redistribute it and/or modify\n",
            "            it under the terms of the GNU General Public License as published by\n",
            "            the Free Software Foundation, either version 3 of the License, or\n",
            "            (at your option) any later version.\n",
            "        \n",
            "            This program is distributed in the hope that it will be useful,\n",
            "            but WITHOUT ANY WARRANTY; without even the implied warranty of\n",
            "            MERCHANTABILITY or FITNESS FOR A PARTICULAR PURPOSE.  See the\n",
            "            GNU General Public License for more details.\n",
            "        \n",
            "            You should have received a copy of the GNU General Public License\n",
            "            along with this program.  If not, see <http://www.gnu.org/licenses/>.\n",
            "        \n",
            "        Also add information on how to contact you by electronic and paper mail.\n",
            "        \n",
            "          If the program does terminal interaction, make it output a short\n",
            "        notice like this when it starts in an interactive mode:\n",
            "        \n",
            "            <program>  Copyright (C) <year>  <name of author>\n",
            "            This program comes with ABSOLUTELY NO WARRANTY; for details type `show w'.\n",
            "            This is free software, and you are welcome to redistribute it\n",
            "            under certain conditions; type `show c' for details.\n",
            "        \n",
            "        The hypothetical commands `show w' and `show c' should show the appropriate\n",
            "        parts of the General Public License.  Of course, your program's commands\n",
            "        might be different; for a GUI interface, you would use an \"about box\".\n",
            "        \n",
            "          You should also get your employer (if you work as a programmer) or school,\n",
            "        if any, to sign a \"copyright disclaimer\" for the program, if necessary.\n",
            "        For more information on this, and how to apply and follow the GNU GPL, see\n",
            "        <http://www.gnu.org/licenses/>.\n",
            "        \n",
            "          The GNU General Public License does not permit incorporating your program\n",
            "        into proprietary programs.  If your program is a subroutine library, you\n",
            "        may consider it more useful to permit linking proprietary applications with\n",
            "        the library.  If this is what you want to do, use the GNU Lesser General\n",
            "        Public License instead of this License.  But first, please read\n",
            "        <http://www.gnu.org/philosophy/why-not-lgpl.html>.\n",
            "        \n",
            "        Name: libquadmath\n",
            "        Files: numpy.libs/libquadmath*.so\n",
            "        Description: dynamically linked to files compiled with gcc\n",
            "        Availability: https://gcc.gnu.org/git/?p=gcc.git;a=tree;f=libquadmath\n",
            "        License: LGPL-2.1-or-later\n",
            "        \n",
            "            GCC Quad-Precision Math Library\n",
            "            Copyright (C) 2010-2019 Free Software Foundation, Inc.\n",
            "            Written by Francois-Xavier Coudert  <fxcoudert@gcc.gnu.org>\n",
            "        \n",
            "            This file is part of the libquadmath library.\n",
            "            Libquadmath is free software; you can redistribute it and/or\n",
            "            modify it under the terms of the GNU Library General Public\n",
            "            License as published by the Free Software Foundation; either\n",
            "            version 2.1 of the License, or (at your option) any later version.\n",
            "        \n",
            "            Libquadmath is distributed in the hope that it will be useful,\n",
            "            but WITHOUT ANY WARRANTY; without even the implied warranty of\n",
            "            MERCHANTABILITY or FITNESS FOR A PARTICULAR PURPOSE.  See the GNU\n",
            "            Lesser General Public License for more details.\n",
            "            https://www.gnu.org/licenses/old-licenses/lgpl-2.1.html\n",
            "Location: /usr/local/lib/python3.10/dist-packages\n",
            "Requires: \n",
            "Required-by: accelerate, albucore, albumentations, altair, arviz, astropy, autograd, bigframes, blis, bokeh, Bottleneck, bqplot, chex, clarabel, cmdstanpy, contourpy, cudf-cu12, cufflinks, cupy-cuda12x, cvxpy, datascience, db-dtypes, dopamine_rl, ecos, flax, folium, geemap, gensim, geopandas, gym, h5py, holoviews, hyperopt, ibis-framework, imageio, imbalanced-learn, imgaug, jax, jaxlib, keras, librosa, lightgbm, matplotlib, matplotlib-venn, mizani, ml-dtypes, mlxtend, moviepy, music21, nibabel, numba, numexpr, opencv-contrib-python, opencv-python, opencv-python-headless, optax, orbax-checkpoint, osqp, pandas, pandas-gbq, pandas-stubs, patsy, plotnine, prophet, pyarrow, pycocotools, pyerfa, pymc, pyogrio, pytensor, python-louvain, qdldl, rmm-cu12, scikit-image, scikit-learn, scipy, scs, seaborn, shapely, sklearn-pandas, soxr, spacy, stanio, statsmodels, tables, tensorboard, tensorflow, tensorflow-datasets, tensorflow-hub, tensorflow-probability, tensorstore, thinc, tifffile, torchvision, transformers, wordcloud, xarray, xarray-einstats, xgboost, yellowbrick, yfinance\n"
          ]
        }
      ],
      "source": [
        "!pip show numpy"
      ]
    },
    {
      "cell_type": "markdown",
      "metadata": {
        "id": "KSNOrnoMHEjD"
      },
      "source": [
        "### 파이썬 오류 확인"
      ]
    },
    {
      "cell_type": "code",
      "execution_count": null,
      "metadata": {
        "colab": {
          "base_uri": "https://localhost:8080/"
        },
        "id": "B8pmiTi5G8JX",
        "outputId": "e3b67722-01df-434f-cd7e-6081c2865d7a"
      },
      "outputs": [
        {
          "name": "stdout",
          "output_type": "stream",
          "text": [
            "a < 9\n"
          ]
        }
      ],
      "source": [
        "# Syntax 오류 발생 예\n",
        "a = 1\n",
        "if a < 9:\n",
        "    print('a < 9')"
      ]
    },
    {
      "cell_type": "markdown",
      "metadata": {
        "id": "DJQhC7btE_L5"
      },
      "source": [
        "### 파이썬 예외처리 방법"
      ]
    },
    {
      "cell_type": "code",
      "execution_count": null,
      "metadata": {
        "id": "GJ1Y-0wMHXJd"
      },
      "outputs": [],
      "source": [
        "# 오류 예외처리\n",
        "while True:\n",
        "    try:\n",
        "        x = int(input('Please enter a number: '))\n",
        "        break\n",
        "\n",
        "    except ValueError:\n",
        "        print('Oops! That was no valid number. Try again...')\n",
        "\n",
        "print('-----')"
      ]
    },
    {
      "cell_type": "markdown",
      "metadata": {
        "id": "6Ef7gKpD8GGP"
      },
      "source": [
        "### [PC에서만 실행] 수업에 사용할 라이브러리 설치하기\n",
        "- PC 윈도우 명령프롬프트에서 실행한다. 코랩에서는 실행 안함\n",
        "- PC에서는 명령어 맨 앞 '!'를 제거하고 실행한다."
      ]
    },
    {
      "cell_type": "code",
      "execution_count": null,
      "metadata": {
        "id": "ViukrDAGDuPc"
      },
      "outputs": [],
      "source": [
        "!python -m pip install --upgrade pip"
      ]
    },
    {
      "cell_type": "code",
      "execution_count": null,
      "metadata": {
        "id": "WnEwfA_x8GGQ"
      },
      "outputs": [],
      "source": [
        "!pip install numpy"
      ]
    },
    {
      "cell_type": "code",
      "execution_count": null,
      "metadata": {
        "id": "ZqJSQDet8GGQ"
      },
      "outputs": [],
      "source": [
        "!pip install pandas"
      ]
    },
    {
      "cell_type": "code",
      "execution_count": null,
      "metadata": {
        "id": "JtYjHD2D8GGQ"
      },
      "outputs": [],
      "source": [
        "!pip install matplotlib"
      ]
    },
    {
      "cell_type": "code",
      "execution_count": null,
      "metadata": {
        "id": "BRSzhspAC6J8"
      },
      "outputs": [],
      "source": [
        "!pip install seaborn"
      ]
    },
    {
      "cell_type": "code",
      "execution_count": null,
      "metadata": {
        "id": "8spH-HIwC6Sz"
      },
      "outputs": [],
      "source": [
        "!pip install ploty"
      ]
    },
    {
      "cell_type": "markdown",
      "metadata": {
        "id": "wl2PYxtB8GGR"
      },
      "source": [
        "----------"
      ]
    },
    {
      "cell_type": "markdown",
      "metadata": {
        "id": "T20_kqnwDKe2"
      },
      "source": [
        "## 2.파이썬 자료형과 연산자"
      ]
    },
    {
      "cell_type": "markdown",
      "metadata": {
        "id": "rxo68HToTgT0"
      },
      "source": [
        "### **[자료형]**"
      ]
    },
    {
      "cell_type": "markdown",
      "metadata": {
        "id": "GPQdotYg8GGR"
      },
      "source": [
        "### 파이썬 자료형 확인"
      ]
    },
    {
      "cell_type": "code",
      "execution_count": null,
      "metadata": {
        "id": "re9ioSIM8GGR"
      },
      "outputs": [],
      "source": [
        "d1 = 123\n",
        "d2 = '123'\n",
        "d3 = [123]\n",
        "d4 = (123,)\n",
        "d5 = {'key':123}\n",
        "d6 = {123}\n",
        "d7 = True\n",
        "\n",
        "print(f'{d1}의 자료형: {type(d1)}')\n",
        "print(f'{d2}의 자료형: {type(d2)}')\n",
        "print(f'{d3}의 자료형: {type(d3)}')\n",
        "print(f'{d4}의 자료형: {type(d4)}')\n",
        "print(f'{d5}의 자료형: {type(d5)}')\n",
        "print(f'{d6}의 자료형: {type(d6)}')\n",
        "print(f'{d7}의 자료형: {type(d7)}')"
      ]
    },
    {
      "cell_type": "markdown",
      "metadata": {
        "id": "H7bSljnRIERc"
      },
      "source": [
        "### [실습문제] 반복문을 이용하여 자료형 출력하기\n",
        "위 자료형을 아래 미션에 맞게 출력해 보세요."
      ]
    },
    {
      "cell_type": "code",
      "execution_count": null,
      "metadata": {
        "colab": {
          "base_uri": "https://localhost:8080/"
        },
        "id": "gbzIvlUi8GGR",
        "outputId": "781b8b16-7af8-484b-c88a-ce6ae00ba793",
        "scrolled": true
      },
      "outputs": [
        {
          "name": "stdout",
          "output_type": "stream",
          "text": [
            "<class 'list'>\n",
            "데이터:123의 자료형은: <class 'int'>\n",
            "데이터:123의 자료형은: <class 'str'>\n",
            "데이터:[123]의 자료형은: <class 'list'>\n",
            "데이터:(123,)의 자료형은: <class 'tuple'>\n",
            "데이터:{'key': 123}의 자료형은: <class 'dict'>\n",
            "데이터:{123}의 자료형은: <class 'set'>\n",
            "데이터:True의 자료형은: <class 'bool'>\n"
          ]
        }
      ],
      "source": [
        "# [미션] 리스트와 반복문을 이용하여 간단하게 나타내기\n",
        "datas = [123,'123',[123],(123,),{'key':123},{123},True]\n",
        "print(type(datas))\n",
        "\n",
        "for data in datas:\n",
        "    print(f'데이터:{data}의 자료형은: {type(data)}')"
      ]
    },
    {
      "cell_type": "code",
      "execution_count": null,
      "metadata": {
        "colab": {
          "base_uri": "https://localhost:8080/"
        },
        "id": "lZHpNQKg98C-",
        "outputId": "9001bcca-dea8-447d-c718-70b40c2eda0b"
      },
      "outputs": [
        {
          "name": "stdout",
          "output_type": "stream",
          "text": [
            "123은 정수가 아니야\n"
          ]
        }
      ],
      "source": [
        "if isinstance(123,str):\n",
        "    print('123은 정수')\n",
        "else:\n",
        "    print('123은 정수가 아니야')"
      ]
    },
    {
      "cell_type": "code",
      "execution_count": null,
      "metadata": {
        "id": "PMDfoepfF7K4"
      },
      "outputs": [],
      "source": [
        "# [미션] isinstance()함수를 이용하여 데이터 타입 확인\n",
        "def get_datatype(data):\n",
        "    instance= {int:'정수', float:'실수', str:'문자열', bool:'불린',\n",
        "           list:'리스트', tuple:'튜플', dict:'딕셔너리', set:'집합' }\n",
        "    for key, value in instance.items():\n",
        "        if isinstance(data, key):\n",
        "            print(f'{data}는 {value} 형입니다.')\n",
        "\n",
        "for data in datas:\n",
        "    get_datatype(data)"
      ]
    },
    {
      "cell_type": "markdown",
      "metadata": {
        "id": "Qv7p8JOYJdMf"
      },
      "source": [
        "### [표준입출력]"
      ]
    },
    {
      "cell_type": "markdown",
      "metadata": {
        "id": "EDFiaZyv8GGR"
      },
      "source": [
        "### 실습문제\n",
        "두 수를 입력 받아 덧셈, 뺄셈, 곱셈, 몫, 나머지를 출력하는 프로그램을 작성하세요\n"
      ]
    },
    {
      "cell_type": "code",
      "execution_count": null,
      "metadata": {
        "colab": {
          "base_uri": "https://localhost:8080/"
        },
        "id": "a9sG7Q738GGS",
        "outputId": "046e3845-d624-4bee-cf27-29f21a2ef26b",
        "scrolled": true
      },
      "outputs": [
        {
          "name": "stdout",
          "output_type": "stream",
          "text": [
            "첫번째 숫자: 53\n",
            "두번째 숫자: 3\n",
            "덧셈: 53 + 3 = 56\n",
            "뺄셈: 53 - 3 = 50\n",
            "곱셈: 53 * 3 = 159\n",
            "몫: 53 // 3 = 17\n",
            "나머지: 53 % 3 = 2\n"
          ]
        }
      ],
      "source": [
        "num1 = int(input('첫번째 숫자: '))\n",
        "num2 = int(input('두번째 숫자: '))\n",
        "\n",
        "print(f'덧셈: {num1} + {num2} = {num1 + num2}')\n",
        "print(f'뺄셈: {num1} - {num2} = {num1 - num2}')\n",
        "print(f'곱셈: {num1} * {num2} = {num1 * num2}')\n",
        "print(f'몫: {num1} // {num2} = {num1 // num2}')\n",
        "print(f'나머지: {num1} % {num2} = {num1 % num2}')\n",
        "\n",
        "\n",
        "\n",
        "\n"
      ]
    },
    {
      "cell_type": "markdown",
      "metadata": {
        "id": "LqAbyRHs8GGS"
      },
      "source": [
        "### 실습문제: 시간 계산 프로그램\n",
        "속력과 거리를 입력 받아 시간을 계산하여 출력하는 프로그램을 만드세요!\n",
        "- 시간 = 거리 / 속력\n",
        "\n"
      ]
    },
    {
      "cell_type": "code",
      "execution_count": null,
      "metadata": {
        "id": "YwepfYt98GGS"
      },
      "outputs": [],
      "source": [
        "velocity = input('속력를 입력해 주세요(km/h) : ')\n",
        "distance = input('거리를 입력해 주세요(km) : ')\n",
        "\n"
      ]
    },
    {
      "cell_type": "markdown",
      "metadata": {
        "id": "sHIxGA0xLj0C"
      },
      "source": [
        "- eval()함수 사용하여 문자열을 계산할 수 있다"
      ]
    },
    {
      "cell_type": "code",
      "execution_count": null,
      "metadata": {
        "id": "5dS2Ul_HDmZx"
      },
      "outputs": [],
      "source": [
        "eval()"
      ]
    },
    {
      "cell_type": "code",
      "execution_count": null,
      "metadata": {
        "id": "gvVxuLjX8GGS"
      },
      "outputs": [],
      "source": [
        "# eval()함수 사용\n",
        "time = eval(f'{distance} / {velocity}')\n",
        "print(time)"
      ]
    },
    {
      "cell_type": "markdown",
      "metadata": {
        "id": "tECEWKan8GGS"
      },
      "source": [
        "### 실습문제 : 정수 합 구하기\n",
        "아래와 같이 정수 n을 입력 받아, a + aa + aaa의 결과 값을 구하는 프로그램을 작성하세요"
      ]
    },
    {
      "cell_type": "code",
      "execution_count": null,
      "metadata": {
        "colab": {
          "base_uri": "https://localhost:8080/"
        },
        "id": "4vjXFX7BUEhJ",
        "outputId": "00839571-f52f-4bef-a9f9-54ab7cd71ef0"
      },
      "outputs": [
        {
          "name": "stdout",
          "output_type": "stream",
          "text": [
            "숫자를 입력하세요:7\n",
            "7+77+777=861\n"
          ]
        }
      ],
      "source": [
        "a=input('숫자를 입력하세요:')\n",
        "k=f'{a}+{a+a}+{a+a+a}'\n",
        "print(f'{k}={eval(k)}')"
      ]
    },
    {
      "cell_type": "code",
      "execution_count": null,
      "metadata": {
        "id": "K2cREULZUEA9"
      },
      "outputs": [],
      "source": []
    },
    {
      "cell_type": "code",
      "execution_count": null,
      "metadata": {
        "colab": {
          "base_uri": "https://localhost:8080/"
        },
        "id": "a04GPnn98GGS",
        "outputId": "a1fe0cfe-70af-492f-9218-f1ccb5ccb623",
        "scrolled": true
      },
      "outputs": [
        {
          "name": "stdout",
          "output_type": "stream",
          "text": [
            "정수를 입력하세요:7\n",
            "7 + 77 + 777 = 861\n"
          ]
        }
      ],
      "source": [
        "a=input('정수를 입력하세요:')\n",
        "a = int(n)\n",
        "aa = int(n * 2)\n",
        "aaa = int(n * 3)\n",
        "\n",
        "result= a + aa + aaa\n",
        "print(f\"{n} + {n}{n} + {n}{n}{n} = {result}\")\n",
        "\n",
        "\n"
      ]
    },
    {
      "cell_type": "code",
      "execution_count": null,
      "metadata": {
        "colab": {
          "base_uri": "https://localhost:8080/"
        },
        "id": "GfonYC3lEvsf",
        "outputId": "87b0ff33-45cb-4708-ba96-683964e8df04"
      },
      "outputs": [
        {
          "name": "stdout",
          "output_type": "stream",
          "text": [
            "정수 n을 입력하세요: 7\n",
            "7 + 77 + 777 = 861\n"
          ]
        }
      ],
      "source": [
        "\n",
        "n = input('정수 n을 입력하세요: ')\n",
        "\n",
        "\n",
        "a = int(n)\n",
        "aa = int(n * 2)\n",
        "aaa = int(n * 3)\n",
        "\n",
        "# 결과 출력\n",
        "result = a + aa + aaa\n",
        "print(f\"{n} + {n}{n} + {n}{n}{n} = {result}\")\n"
      ]
    },
    {
      "cell_type": "markdown",
      "metadata": {
        "id": "SHkqIiXbJXrR"
      },
      "source": [
        "### [문자와 문자열]"
      ]
    },
    {
      "cell_type": "markdown",
      "metadata": {
        "id": "kc4LrgAHJw4f"
      },
      "source": [
        "### 실습문제 : 문자열 거꾸로 출력하기"
      ]
    },
    {
      "cell_type": "code",
      "execution_count": null,
      "metadata": {
        "colab": {
          "base_uri": "https://localhost:8080/"
        },
        "id": "_QpSs-GCJvyH",
        "outputId": "d9705b26-ae1e-4801-df80-d7bdc302798b"
      },
      "outputs": [
        {
          "name": "stdout",
          "output_type": "stream",
          "text": [
            "문자열 입력:안녕하세요.!\n",
            "안녕하세요.!\n",
            "!.요세하녕안\n"
          ]
        }
      ],
      "source": [
        "s=input('문자열 입력:')\n",
        "print(s)\n",
        "print(s[::-1]) #[start:end:step]start<=index<end"
      ]
    },
    {
      "cell_type": "markdown",
      "metadata": {
        "id": "t1KHQyvnJrj3"
      },
      "source": [
        "### 실습문제: 간단 챗봇 만들기\n"
      ]
    },
    {
      "cell_type": "code",
      "execution_count": null,
      "metadata": {
        "colab": {
          "base_uri": "https://localhost:8080/"
        },
        "id": "Fg-QYkDPJr14",
        "outputId": "c3b8c5c6-f35e-4437-b9fd-3e1f23793523"
      },
      "outputs": [
        {
          "name": "stdout",
          "output_type": "stream",
          "text": [
            "안녕하세요~\n",
            "당신의 이름은 뭐예요?:아이유\n",
            "만나서 반갑습니다.아이유님\n",
            "아이유님의 이름의 길이는 다음과 같습니다. 3\n",
            "아이유님 나이는 어떻게 되나요?:30\n",
            "내년에는31세가 되시는군요!\n"
          ]
        }
      ],
      "source": [
        "# 간단한 챗봇 만들기\n",
        "print('안녕하세요~')\n",
        "name=input('당신의 이름은 뭐예요?:')\n",
        "print(f'만나서 반갑습니다.{name}님')\n",
        "print(f'{name}님의 이름의 길이는 다음과 같습니다. {len(name)}')\n",
        "age=input(f'{name}님 나이는 어떻게 되나요?:')\n",
        "print(f'내년에는{int(age)+1}세가 되시는군요!')\n",
        "\n",
        "\n"
      ]
    },
    {
      "cell_type": "markdown",
      "metadata": {
        "id": "Hb6l5EjLQB2m"
      },
      "source": [
        "### 실습문제 :  구글TTS(gTTS) 사용하여 음성 출력하기\n",
        "TTS : Text to Speech"
      ]
    },
    {
      "cell_type": "markdown",
      "metadata": {
        "id": "MKZzJ2iCMu9b"
      },
      "source": []
    },
    {
      "cell_type": "code",
      "execution_count": null,
      "metadata": {
        "colab": {
          "base_uri": "https://localhost:8080/"
        },
        "id": "-eY--f6MPwTf",
        "outputId": "7a657836-c38d-4f42-e7f7-0f41ba109d72"
      },
      "outputs": [
        {
          "name": "stdout",
          "output_type": "stream",
          "text": [
            "Requirement already satisfied: gTTS in /usr/local/lib/python3.10/dist-packages (2.5.3)\n",
            "Requirement already satisfied: requests<3,>=2.27 in /usr/local/lib/python3.10/dist-packages (from gTTS) (2.32.3)\n",
            "Requirement already satisfied: click<8.2,>=7.1 in /usr/local/lib/python3.10/dist-packages (from gTTS) (8.1.7)\n",
            "Requirement already satisfied: charset-normalizer<4,>=2 in /usr/local/lib/python3.10/dist-packages (from requests<3,>=2.27->gTTS) (3.3.2)\n",
            "Requirement already satisfied: idna<4,>=2.5 in /usr/local/lib/python3.10/dist-packages (from requests<3,>=2.27->gTTS) (3.10)\n",
            "Requirement already satisfied: urllib3<3,>=1.21.1 in /usr/local/lib/python3.10/dist-packages (from requests<3,>=2.27->gTTS) (2.2.3)\n",
            "Requirement already satisfied: certifi>=2017.4.17 in /usr/local/lib/python3.10/dist-packages (from requests<3,>=2.27->gTTS) (2024.8.30)\n"
          ]
        }
      ],
      "source": [
        "# 구글 tts 프로그램\n",
        "!pip install gTTS"
      ]
    },
    {
      "cell_type": "code",
      "execution_count": null,
      "metadata": {
        "colab": {
          "base_uri": "https://localhost:8080/",
          "height": 74
        },
        "id": "O_xqpl0pPx6k",
        "outputId": "a07ffc89-021f-4dbb-cb9f-82d79c64a11c"
      },
      "outputs": [
        {
          "data": {
            "text/html": [
              "\n",
              "                <audio  controls=\"controls\" autoplay=\"autoplay\">\n",
              "                    <source src=\"data:audio/mpeg;base64,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\" type=\"audio/mpeg\" />\n",
              "                    Your browser does not support the audio element.\n",
              "                </audio>\n",
              "              "
            ],
            "text/plain": [
              "<IPython.lib.display.Audio object>"
            ]
          },
          "metadata": {},
          "output_type": "display_data"
        }
      ],
      "source": [
        "# 영어 출력\n",
        "from gtts import gTTS\n",
        "from IPython.display import Audio\n",
        "\n",
        "eng_wav = gTTS('Hello World!')\n",
        "eng_wav.save('eng.mp3')\n",
        "\n",
        "display(Audio('eng.mp3', autoplay=True))"
      ]
    },
    {
      "cell_type": "code",
      "execution_count": null,
      "metadata": {
        "colab": {
          "base_uri": "https://localhost:8080/",
          "height": 74
        },
        "id": "inyZATWlP3Cp",
        "outputId": "65db7586-8e72-4854-ae05-054421c10746"
      },
      "outputs": [
        {
          "data": {
            "text/html": [
              "\n",
              "                <audio  controls=\"controls\" autoplay=\"autoplay\">\n",
              "                    <source src=\"data:audio/x-wav;base64,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\" type=\"audio/x-wav\" />\n",
              "                    Your browser does not support the audio element.\n",
              "                </audio>\n",
              "              "
            ],
            "text/plain": [
              "<IPython.lib.display.Audio object>"
            ]
          },
          "metadata": {},
          "output_type": "display_data"
        }
      ],
      "source": [
        "# 한글 출력\n",
        "from gtts import gTTS\n",
        "from IPython.display import Audio\n",
        "\n",
        "kor_wav = gTTS('안녕하세요! ', lang = 'ko')\n",
        "kor_wav.save('kor.wav')\n",
        "\n",
        "display(Audio('kor.wav', autoplay=True))"
      ]
    },
    {
      "cell_type": "code",
      "execution_count": null,
      "metadata": {
        "colab": {
          "base_uri": "https://localhost:8080/",
          "height": 697
        },
        "id": "VdNYWRldOWow",
        "outputId": "2ddbd733-ab3d-46df-aa07-ad811597a70a"
      },
      "outputs": [
        {
          "data": {
            "text/html": [
              "\n",
              "                <audio  controls=\"controls\" autoplay=\"autoplay\">\n",
              "                    <source src=\"data:audio/mpeg;base64,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\" type=\"audio/mpeg\" />\n",
              "                    Your browser does not support the audio element.\n",
              "                </audio>\n",
              "              "
            ],
            "text/plain": [
              "<IPython.lib.display.Audio object>"
            ]
          },
          "metadata": {},
          "output_type": "display_data"
        },
        {
          "data": {
            "text/html": [
              "\n",
              "                <audio  controls=\"controls\" autoplay=\"autoplay\">\n",
              "                    <source src=\"data:audio/mpeg;base64,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\" type=\"audio/mpeg\" />\n",
              "                    Your browser does not support the audio element.\n",
              "                </audio>\n",
              "              "
            ],
            "text/plain": [
              "<IPython.lib.display.Audio object>"
            ]
          },
          "metadata": {},
          "output_type": "display_data"
        },
        {
          "data": {
            "text/html": [
              "\n",
              "                <audio  controls=\"controls\" autoplay=\"autoplay\">\n",
              "                    <source src=\"data:audio/mpeg;base64,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\" type=\"audio/mpeg\" />\n",
              "                    Your browser does not support the audio element.\n",
              "                </audio>\n",
              "              "
            ],
            "text/plain": [
              "<IPython.lib.display.Audio object>"
            ]
          },
          "metadata": {},
          "output_type": "display_data"
        },
        {
          "data": {
            "text/html": [
              "\n",
              "                <audio  controls=\"controls\" autoplay=\"autoplay\">\n",
              "                    <source src=\"data:audio/mpeg;base64,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\" type=\"audio/mpeg\" />\n",
              "                    Your browser does not support the audio element.\n",
              "                </audio>\n",
              "              "
            ],
            "text/plain": [
              "<IPython.lib.display.Audio object>"
            ]
          },
          "metadata": {},
          "output_type": "display_data"
        },
        {
          "data": {
            "text/html": [
              "\n",
              "                <audio  controls=\"controls\" autoplay=\"autoplay\">\n",
              "                    <source src=\"data:audio/mpeg;base64,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\" type=\"audio/mpeg\" />\n",
              "                    Your browser does not support the audio element.\n",
              "                </audio>\n",
              "              "
            ],
            "text/plain": [
              "<IPython.lib.display.Audio object>"
            ]
          },
          "metadata": {},
          "output_type": "display_data"
        },
        {
          "data": {
            "text/html": [
              "\n",
              "                <audio  controls=\"controls\" autoplay=\"autoplay\">\n",
              "                    <source src=\"data:audio/mpeg;base64,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\" type=\"audio/mpeg\" />\n",
              "                    Your browser does not support the audio element.\n",
              "                </audio>\n",
              "              "
            ],
            "text/plain": [
              "<IPython.lib.display.Audio object>"
            ]
          },
          "metadata": {},
          "output_type": "display_data"
        },
        {
          "data": {
            "text/html": [
              "\n",
              "                <audio  controls=\"controls\" autoplay=\"autoplay\">\n",
              "                    <source src=\"data:audio/mpeg;base64,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\" type=\"audio/mpeg\" />\n",
              "                    Your browser does not support the audio element.\n",
              "                </audio>\n",
              "              "
            ],
            "text/plain": [
              "<IPython.lib.display.Audio object>"
            ]
          },
          "metadata": {},
          "output_type": "display_data"
        },
        {
          "data": {
            "text/html": [
              "\n",
              "                <audio  controls=\"controls\" autoplay=\"autoplay\">\n",
              "                    <source src=\"data:audio/mpeg;base64,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\" type=\"audio/mpeg\" />\n",
              "                    Your browser does not support the audio element.\n",
              "                </audio>\n",
              "              "
            ],
            "text/plain": [
              "<IPython.lib.display.Audio object>"
            ]
          },
          "metadata": {},
          "output_type": "display_data"
        },
        {
          "data": {
            "text/html": [
              "\n",
              "                <audio  controls=\"controls\" autoplay=\"autoplay\">\n",
              "                    <source src=\"data:audio/mpeg;base64,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\" type=\"audio/mpeg\" />\n",
              "                    Your browser does not support the audio element.\n",
              "                </audio>\n",
              "              "
            ],
            "text/plain": [
              "<IPython.lib.display.Audio object>"
            ]
          },
          "metadata": {},
          "output_type": "display_data"
        },
        {
          "data": {
            "text/html": [
              "\n",
              "                <audio  controls=\"controls\" autoplay=\"autoplay\">\n",
              "                    <source src=\"data:audio/mpeg;base64,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\" type=\"audio/mpeg\" />\n",
              "                    Your browser does not support the audio element.\n",
              "                </audio>\n",
              "              "
            ],
            "text/plain": [
              "<IPython.lib.display.Audio object>"
            ]
          },
          "metadata": {},
          "output_type": "display_data"
        },
        {
          "data": {
            "text/html": [
              "\n",
              "                <audio  controls=\"controls\" autoplay=\"autoplay\">\n",
              "                    <source src=\"data:audio/mpeg;base64,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\" type=\"audio/mpeg\" />\n",
              "                    Your browser does not support the audio element.\n",
              "                </audio>\n",
              "              "
            ],
            "text/plain": [
              "<IPython.lib.display.Audio object>"
            ]
          },
          "metadata": {},
          "output_type": "display_data"
        },
        {
          "data": {
            "text/html": [
              "\n",
              "                <audio  controls=\"controls\" autoplay=\"autoplay\">\n",
              "                    <source src=\"data:audio/mpeg;base64,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\" type=\"audio/mpeg\" />\n",
              "                    Your browser does not support the audio element.\n",
              "                </audio>\n",
              "              "
            ],
            "text/plain": [
              "<IPython.lib.display.Audio object>"
            ]
          },
          "metadata": {},
          "output_type": "display_data"
        }
      ],
      "source": [
        "from gtts import gTTS\n",
        "from IPython.display import Audio, display\n",
        "import os\n",
        "import time\n",
        "\n",
        "def text_to_speech_from_file(filename):\n",
        "    with open(filename, 'r', encoding='utf-8') as file:\n",
        "        for index, line in enumerate(file):\n",
        "            line = line.strip()\n",
        "            if line:  # 빈 줄은 건너뜀\n",
        "                # 텍스트를 음성으로 변환\n",
        "                tts = gTTS(text=line, lang='ko')\n",
        "                audio_file = f\"temp_audio_{index}.mp3\"\n",
        "\n",
        "                # 음성 파일 저장\n",
        "                tts.save(audio_file)\n",
        "\n",
        "                # 음성 파일을 재생 (IPython.display.Audio 사용)\n",
        "                display(Audio(audio_file, autoplay=True))\n",
        "\n",
        "                # 음성이 끝날 때까지 잠시 대기\n",
        "\n",
        "\n",
        "                time.sleep(2)  # 음성 길이에 따라 조절 가능\n",
        "\n",
        "                # 파일 삭제\n",
        "                os.remove(audio_file)\n",
        "\n",
        "                if index > 10 :\n",
        "                    break\n",
        "\n",
        "# 텍스트 파일 경로를 지정하세요.\n",
        "text_to_speech_from_file('사건의지평선.txt')\n"
      ]
    },
    {
      "cell_type": "markdown",
      "metadata": {
        "id": "3UTLuSAp8GGY"
      },
      "source": [
        "--------"
      ]
    },
    {
      "cell_type": "markdown",
      "metadata": {
        "id": "fmU7O8WS8GGY"
      },
      "source": [
        "### **[연산자]**"
      ]
    },
    {
      "cell_type": "markdown",
      "metadata": {
        "id": "eRCyhgwS8GGY"
      },
      "source": [
        "### 실습문제 :  동전 교환 프로그램\n",
        "동전교환 프로그램을 작성하세요"
      ]
    },
    {
      "cell_type": "code",
      "execution_count": null,
      "metadata": {
        "colab": {
          "background_save": true,
          "base_uri": "https://localhost:8080/"
        },
        "id": "g8A7ErL78GGY",
        "outputId": "3b818d2c-3ec1-4a32-b9fb-8ed742018647"
      },
      "outputs": [
        {
          "name": "stdout",
          "output_type": "stream",
          "text": [
            "---동전교환기 프로그램을 작동합니다.---\n"
          ]
        }
      ],
      "source": [
        "# 키보드로부터 금액 입력 받기\n",
        "\n",
        "print('---동전교환기 프로그램을 작동합니다.---')\n",
        "money = int( input('금액을 입력하세요: '))\n",
        "print('-' * 30)\n",
        "print(f'500원짜리 ==> {money//500}개')\n",
        "money = money%500\n",
        "print(f'100원짜리 ==> {money//100}개')\n",
        "money = money%100\n",
        "print(f' 50원짜리 ==> {money//50}개')\n",
        "money = money%50\n",
        "print(f' 10원짜리 ==> {money//10}개')\n",
        "money = money%10\n",
        "print(f'잔돈      ==> {money}원')\n",
        "\n",
        "\n",
        "\n",
        "\n",
        "\n"
      ]
    },
    {
      "cell_type": "markdown",
      "metadata": {
        "id": "7GL-zafcQwDq"
      },
      "source": [
        "### 실습문제 : 비교 연산자를 이용한 상품 필터링하기\n",
        "아래 상품 딕셔너리에서 가격이 1000 이하인 상품을 필터링하고 상품과 해당 가격을 출력하시오."
      ]
    },
    {
      "cell_type": "code",
      "execution_count": null,
      "metadata": {
        "id": "78IAx7VkQwW_"
      },
      "outputs": [],
      "source": [
        "# 상품 가격을 가진 사전\n",
        "products = { \"apple\": 1000, \"banana\": 800, \"cherry\": 1500,\n",
        "            \"date\": 1200, \"elderberry\": 2000 }\n",
        "\n",
        "# 가격이 1000 이하인 상품 필터링\n",
        "\n"
      ]
    },
    {
      "cell_type": "markdown",
      "metadata": {
        "id": "0SWp1LN08GGY"
      },
      "source": [
        "------"
      ]
    },
    {
      "cell_type": "markdown",
      "metadata": {
        "id": "x4FIhV_y8GGZ"
      },
      "source": [
        "## 3.조건문과 반목문으로 흐름 제어하기"
      ]
    },
    {
      "cell_type": "markdown",
      "metadata": {
        "id": "LPe_skHf8GGZ"
      },
      "source": [
        "### **[조건문]**"
      ]
    },
    {
      "cell_type": "markdown",
      "metadata": {
        "id": "HIFAD_kqX1uL"
      },
      "source": [
        "#### 조건문 구조 4개"
      ]
    },
    {
      "cell_type": "code",
      "execution_count": null,
      "metadata": {
        "id": "d9jDMOjbX4hu"
      },
      "outputs": [],
      "source": [
        "# 조건식1: if 조건식\n",
        "a = 99\n",
        "if a < 100 :\n",
        "    print('a는 100보다 작군요')"
      ]
    },
    {
      "cell_type": "code",
      "execution_count": null,
      "metadata": {
        "id": "9ehdd_YIYEus"
      },
      "outputs": [],
      "source": [
        "# 조건식2: if ~ else\n",
        "a = 200\n",
        "if a > 100:\n",
        "    print('a는 100보다 크군요')\n",
        "else:\n",
        "    print('a는 100보다 크지 않군요')"
      ]
    },
    {
      "cell_type": "code",
      "execution_count": null,
      "metadata": {
        "id": "nOi_cwzoYE2u"
      },
      "outputs": [],
      "source": [
        "# 조건문3: 중첩 if - 조건문 안에 조건문\n",
        "a = 200\n",
        "if a > 100:\n",
        "    if a > 200 :\n",
        "        print('a는 200보다 크군요')\n",
        "    else:\n",
        "        print('a는 200보다 크거나 같군요')\n",
        "else:\n",
        "    print('a는 100보다 크지 않군요')"
      ]
    },
    {
      "cell_type": "code",
      "execution_count": null,
      "metadata": {
        "id": "T_P0EQFeYFBE"
      },
      "outputs": [],
      "source": [
        "# 조건문4: 다중 조건문\n",
        "pocket = ['paper', 'handphone']\n",
        "card = True\n",
        "\n",
        "if 'money' in pocket:\n",
        "    print('택시를 타고 가라')\n",
        "elif card:\n",
        "    print('택시를 타고 가라')\n",
        "else:\n",
        "    print('걸어가라')"
      ]
    },
    {
      "cell_type": "markdown",
      "metadata": {
        "id": "Io13oQKLhgph"
      },
      "source": [
        "#### 조건부 표현식"
      ]
    },
    {
      "cell_type": "code",
      "execution_count": null,
      "metadata": {
        "id": "h0V6WqWchnTA"
      },
      "outputs": [],
      "source": [
        "score = int(input('점수를 입력하세요: '))\n",
        "message = \"success!\" if score >=60 else \"failure!\"\n",
        "print(message)"
      ]
    },
    {
      "cell_type": "markdown",
      "metadata": {
        "id": "Ar6JKwtB8GGZ"
      },
      "source": [
        "#### 실습문제 : 짝수 홀수 판별하기\n",
        "숫자를 입력 받아 짝수/홀수를 판별하는 코드를 만들어 보세요."
      ]
    },
    {
      "cell_type": "code",
      "execution_count": null,
      "metadata": {
        "id": "09w2BCcN8GGZ"
      },
      "outputs": [],
      "source": [
        "x = int(input('숫자를 입력해 주세요: '))\n",
        "\n",
        "\n"
      ]
    },
    {
      "cell_type": "markdown",
      "metadata": {
        "id": "3SDdg7Aeg7MW"
      },
      "source": [
        "### 실습문제 : 커피 자판기 조건문\n",
        "아래 조건을 만족하는 커피 자동주문 머신을 만들어보세요.<br><br>\n",
        "[커피 자동주문 머신]<br>\n",
        "친구들과 현금 커피 자동주문 머신 앞에서\n",
        " - 아메리카노 2잔과 카페라테 2잔 카푸치노 1잔을 주문하였다.\n",
        " - 아메리카노 한잔에 2500원이고\n",
        " - 카페라테는 한잔에 3000원\n",
        " - 카푸치노는 한잔에 3000원이다.\n",
        "커피 종류와 잔 수를 결정한 후 현금 15000원을 투입하고 잔돈을 1000원 받았다."
      ]
    },
    {
      "cell_type": "code",
      "execution_count": null,
      "metadata": {
        "id": "BZlOMJHKg7dN"
      },
      "outputs": [],
      "source": [
        "menu = '''[커피 자동주문 머신 메뉴]\n",
        "------------------------------\n",
        "-아메리카노는 2500원\n",
        "-카레라떼는 3000원\n",
        "-카푸치노는 3000원\n",
        "입니다. 원하시는 커피종류와 잔수를 입력하세요.\n",
        "------------------------------'''\n",
        "print(menu)\n",
        "coffee1 = int(input(\"아메리카노 몇잔?\"))\n",
        "coffee2 = int(input(\"카페라떼 몇잔?\"))\n",
        "coffee3 = int(input(\"카푸치노 몇잔?\"))\n",
        "\n"
      ]
    },
    {
      "cell_type": "markdown",
      "metadata": {
        "id": "4RoolGBF8GGa"
      },
      "source": [
        "------"
      ]
    },
    {
      "cell_type": "markdown",
      "metadata": {
        "id": "G2T6Nybt8GGa"
      },
      "source": [
        "### **[반복문]**"
      ]
    },
    {
      "cell_type": "markdown",
      "metadata": {
        "id": "HuWJNA-T8GGa"
      },
      "source": [
        "### 실습문제 : 1~N까지 합계 구하기\n",
        "숫자를 입력받아 1~n까지의 합을 구할 때 짝수를 제외하고 합을 구하는 프로그램을 만들어 보세요."
      ]
    },
    {
      "cell_type": "code",
      "execution_count": null,
      "metadata": {
        "id": "t4NbQOOe8GGa"
      },
      "outputs": [],
      "source": [
        "n = int(input('합계를 구할 숫자 입력:'))\n",
        "hap = 0\n",
        "\n",
        "\n"
      ]
    },
    {
      "cell_type": "markdown",
      "metadata": {
        "id": "p7P0Vy-XjIBz"
      },
      "source": [
        "### 실습문제 : 나무 열 번 찍어 넘기기"
      ]
    },
    {
      "cell_type": "code",
      "execution_count": null,
      "metadata": {
        "id": "A1OSHn1tjNE5"
      },
      "outputs": [],
      "source": [
        "treeHit = 0\n",
        "\n"
      ]
    },
    {
      "cell_type": "markdown",
      "metadata": {
        "id": "iPCnjI9UkoHr"
      },
      "source": [
        "### 실습문제 :  커피 자동주문 프로그램 업그레이드\n",
        "앞에서 만들어 본 커피 자동주문 머신 프로그램을 while문을 이용하여 돈을 모두 지불할 때까지 돈을 입력 받도록 프로그램 기능 수정하기"
      ]
    },
    {
      "cell_type": "code",
      "execution_count": null,
      "metadata": {
        "id": "HtKho6P3kxtS"
      },
      "outputs": [],
      "source": [
        "menu = '''[커피 자동주문 머신 메뉴]\n",
        "------------------------------\n",
        "-아메리카노는 2500원\n",
        "-카레라떼는 3000원\n",
        "-카푸치노는 3000원\n",
        "입니다. 원하시는 커피종류와 잔수를 입력하세요.\n",
        "------------------------------'''\n",
        "print(menu)\n",
        "coffee1 = int(input(\"아메리카노 몇잔?\"))\n",
        "coffee2 = int(input(\"카페라떼 몇잔?\"))\n",
        "coffee3 = int(input(\"카푸치노 몇잔?\"))\n",
        "\n"
      ]
    },
    {
      "cell_type": "markdown",
      "metadata": {
        "id": "bBpYo7he8GGc"
      },
      "source": [
        "### 실습문제 : 도둑잡기 게임 만들기\n",
        "경찰에 쫓기던 범인이 3개의 방 중에 한 곳에 숨어버렸습니다. 범인은 방문을 열 때마다 무작위로 3개의 방 중 하나의 방으로 이동합니다. 3개의 방 중 하나의 방을 선택했을 때 범인이 있다면 100점, 없을 때 -10점을 부여하고 범인을 잡으면 게임을 종료하는 프로그램을 만들어 보세요."
      ]
    },
    {
      "cell_type": "code",
      "execution_count": null,
      "metadata": {
        "id": "Yjs0Tp0m8GGc"
      },
      "outputs": [],
      "source": [
        "import random\n",
        "score = 0\n",
        "\n",
        "while True:  # 무한반복\n",
        "    # 1.무작위로 범인 방 배치\n",
        "\n",
        "\n",
        "\n",
        "    # 2.사용자로부터 방 번호 입력 받기\n",
        "    n = int(input('방 번호를 입력하세요(1,2,3): '))\n",
        "\n",
        "    # 3.사용자가 입력한 방 번호와 범인이 있는 방 비교\n",
        "    # 4.범인을 찾으면\n",
        "    # 범인 체포“라는 메시지 출력\n",
        "    # 점수 증가\n",
        "    # 무한반복 빠져 나가기\n",
        "\n",
        "    # 5.범인을 찾지 못하면\n",
        "    # “범인을 찾지 못했다“라는 메시지 출력\n",
        "    # 점수 감소\n",
        "\n",
        "# 게임 종료 메시지 출력\n",
        "# 최종 점수 출력"
      ]
    },
    {
      "cell_type": "markdown",
      "metadata": {
        "id": "FTX-Fvb28GGc"
      },
      "source": [
        "------"
      ]
    },
    {
      "cell_type": "markdown",
      "metadata": {
        "id": "8tdBEUuy8GGe"
      },
      "source": [
        "## 4.함수를 이용하여 알고리즘 만들기"
      ]
    },
    {
      "cell_type": "markdown",
      "metadata": {
        "id": "A50BCkk98GGe"
      },
      "source": [
        "### **[함수 & 모듈]**"
      ]
    },
    {
      "cell_type": "code",
      "execution_count": null,
      "metadata": {
        "id": "3gNw75bI8GGe"
      },
      "outputs": [],
      "source": [
        "def nSum(a, b):\n",
        "    c = a + b\n",
        "    return c\n",
        "\n",
        "nSum(50, 3)"
      ]
    },
    {
      "cell_type": "markdown",
      "metadata": {
        "id": "ZH2oJDOzmgta"
      },
      "source": [
        "####  함수의 구조\n",
        "매개변수와 리턴값에 따른 함수의 유형 예"
      ]
    },
    {
      "cell_type": "markdown",
      "metadata": {
        "id": "ZVu_uCmBmwX9"
      },
      "source": [
        "- 매개변수(X), 리턴값(X)"
      ]
    },
    {
      "cell_type": "code",
      "execution_count": null,
      "metadata": {
        "id": "PhoFdGdpmg2i"
      },
      "outputs": [],
      "source": [
        "def func():\n",
        "    print('안녕하세요!')\n",
        "\n",
        "print( func() )"
      ]
    },
    {
      "cell_type": "markdown",
      "metadata": {
        "id": "rYJvu1mKm1lA"
      },
      "source": [
        "- 매개변수(X), 리턴값(O)"
      ]
    },
    {
      "cell_type": "code",
      "execution_count": null,
      "metadata": {
        "id": "RtmltcdOm1sg"
      },
      "outputs": [],
      "source": [
        "def func():\n",
        "    print('안녕하세요!')\n",
        "    return '처리완료!'\n",
        "\n",
        "print( func() )"
      ]
    },
    {
      "cell_type": "markdown",
      "metadata": {
        "id": "kAiXc3qom1zq"
      },
      "source": [
        "- 매개변수(O), 리턴값(X)"
      ]
    },
    {
      "cell_type": "code",
      "execution_count": null,
      "metadata": {
        "id": "mdneVBp_m16L"
      },
      "outputs": [],
      "source": [
        "def func(a, b):\n",
        "    print('덧셈: %d + %d = %d' % (a, b, a+b))\n",
        "\n",
        "print( func(5, 7) )"
      ]
    },
    {
      "cell_type": "markdown",
      "metadata": {
        "id": "UWx5mc2Bm2Ah"
      },
      "source": [
        "- 매개변수(O), 리턴값(O)"
      ]
    },
    {
      "cell_type": "code",
      "execution_count": null,
      "metadata": {
        "id": "u40Eqnc1m2IB"
      },
      "outputs": [],
      "source": [
        "def func(a, b):\n",
        "    print('덧셈: %d + %d = %d' % (a, b, a+b))\n",
        "    return a+b\n",
        "\n",
        "print( func(5, 7) )"
      ]
    },
    {
      "cell_type": "markdown",
      "metadata": {
        "id": "Oq6XLdiqm9lV"
      },
      "source": [
        "### 실습문제 : 암스트롱수 판별 함수\n",
        "다음 조건을 참고하여 암스트롱수를 구하는 함수를 만들어 출력하는 프로그램을 만들어 보세요.\n",
        "- **암스트롱수** : 세 자리의 정수 중에서 각 자리의 수를 세 제곱한 수의 합과 자신이 같은 수"
      ]
    },
    {
      "cell_type": "code",
      "execution_count": null,
      "metadata": {
        "id": "DvFLshFqm9t8"
      },
      "outputs": [],
      "source": [
        "def is_armstringNumber(N):\n",
        "\n",
        "\n",
        "\n",
        "\n",
        "for i in range(100, 1000):\n",
        "    if is_armstringNumber(i):\n",
        "        print(\"[%i] is armstrong number\" % i)"
      ]
    },
    {
      "cell_type": "markdown",
      "metadata": {
        "id": "Kvzu_J_a8GGf"
      },
      "source": [
        "### 실습문제 : 환전 계산 함수\n",
        "아래 조건을 만족하는 환전계산 함수를 만들어 보세요."
      ]
    },
    {
      "cell_type": "code",
      "execution_count": null,
      "metadata": {
        "id": "x1jdgfzq8GGf",
        "scrolled": true
      },
      "outputs": [],
      "source": [
        "def moneyExchange(m, c):\n",
        "\n",
        "\n",
        "\n",
        "countrys = {'미국':['달러', 1182.5],\n",
        "            '중국':['위안', 169.22],\n",
        "            '유럽':['유로', 1286.74],\n",
        "            '일본':['엔', 1078.14]}\n",
        "money = int(input('환전 금액(원)을 입력하세요: '))\n",
        "country = input('국가를 입력하세요: ')\n",
        "print('-'*30)\n",
        "moneyExchange(money, country)"
      ]
    },
    {
      "cell_type": "code",
      "source": [
        "def moneyExchange(m, c):\n",
        "    m_code = countrys[c][0]   # 통화\n",
        "    m_rate = countrys[c][1]   # 매미기준율\n",
        "    result =  round(m / m_rate, 1)   # 환전금액\n",
        "\n",
        "    return result, m_code, m_rate\n",
        "\n",
        "countrys = {'미국':['달러', 1362.5],\n",
        "            '중국':['위안', 191.21],\n",
        "            '유럽':['유로', 1483.76],\n",
        "            '일본':['엔', 913.02]}\n",
        "money = int(input('환전 금액(원)을 입력하세요: '))\n",
        "country = input('국가를 입력하세요: ')\n",
        "print('-'*30)\n",
        "result, m_code, m_rate = moneyExchange(money, country)\n",
        "print(f'원화 {money:,}원을 {country} 돈으로 환전하면 {result} {m_code}입니다.')"
      ],
      "metadata": {
        "id": "WJRLu0YQu4Ih"
      },
      "execution_count": null,
      "outputs": []
    },
    {
      "cell_type": "markdown",
      "metadata": {
        "id": "jcBxboxauPTJ"
      },
      "source": [
        "\n",
        "\n",
        "---\n",
        "\n"
      ]
    },
    {
      "cell_type": "markdown",
      "metadata": {
        "id": "Ajjvg18_8GGg"
      },
      "source": [
        "### 5.ChatGPT와 페어프로그래밍하기"
      ]
    },
    {
      "cell_type": "markdown",
      "metadata": {
        "id": "LgP7QlUCtw9A"
      },
      "source": [
        "### 실습문제 : 영어 단어장 만들기\n",
        "아래 조건을 만족시키는 <영어단어장 만들기> 프로그램을 만들어 보세요.\n",
        "\n",
        "영단어는 key, 그의 뜻은 value 로 두는 dictionary 를 만드세요.<br>\n",
        "<메뉴>\n",
        " - 1. 단어 등록\n",
        " - 2. 단어 검색\n",
        " - 3. 단어 삭제\n",
        " - 4. 모든 단어 보기\n",
        " - 0. 종료하기\n",
        "\n",
        "1. 단어 등록 <br>\n",
        "    새 영단어와 그의 뜻을 입력 받고 dictionary 에 추가합니다.\n",
        "\n",
        "2. 단어 검색<br>\n",
        "    영단어를 입력 받아 그의 뜻을 출력합니다.<br>\n",
        "    미등록된 단어인 경우 '미등록 단어'를 출력합니다.\n",
        "    \n",
        "3. 단어 삭제<br>\n",
        "    영단어를 입력 받아 단어장에서 해당 단어를 삭제한다.<br>\n",
        "    미등록된 단어인 경우 '미등록 단어'를 출력합니다\n",
        "    \n",
        "4. 모든 단어 보기<br>\n",
        "    현재 등록되어 있는 모든 단어와 뜻을 출력합니다.\n",
        "\n",
        "0. 종료하기"
      ]
    },
    {
      "cell_type": "code",
      "execution_count": null,
      "metadata": {
        "id": "eZLiY8m-txGd"
      },
      "outputs": [],
      "source": [
        "menu = '''---선택메뉴--\n",
        "1. 단어 등록\n",
        "2. 단어 검색\n",
        "3. 단어 삭제\n",
        "4. 모든 단어 보기\n",
        "0. 종료하기\n",
        "------------------------------'''\n",
        "\n",
        "# 빈 딕셔너리를 만든다. (반복문 안에 넣지 않는다!)\n",
        "wordbook = {}\n",
        "\n",
        "def addBook():\n",
        "\n",
        "\n",
        "def searchBook():\n",
        "\n",
        "\n",
        "def deleteBook():\n",
        "\n",
        "\n",
        "def showAllBook():\n",
        "\n",
        "\n"
      ]
    },
    {
      "cell_type": "markdown",
      "metadata": {
        "id": "SD7IuCtyEfxZ"
      },
      "source": [
        "\n",
        "\n",
        "---\n",
        "THE END\n",
        "\n"
      ]
    },
    {
      "cell_type": "markdown",
      "metadata": {
        "id": "RQoDVEJ38GGg"
      },
      "source": [
        "------"
      ]
    }
  ],
  "metadata": {
    "colab": {
      "provenance": [],
      "include_colab_link": true
    },
    "kernelspec": {
      "display_name": "Python 3 (ipykernel)",
      "language": "python",
      "name": "python3"
    },
    "language_info": {
      "codemirror_mode": {
        "name": "ipython",
        "version": 3
      },
      "file_extension": ".py",
      "mimetype": "text/x-python",
      "name": "python",
      "nbconvert_exporter": "python",
      "pygments_lexer": "ipython3",
      "version": "3.10.9"
    }
  },
  "nbformat": 4,
  "nbformat_minor": 0
}